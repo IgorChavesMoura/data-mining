{
 "cells": [
  {
   "cell_type": "markdown",
   "metadata": {},
   "source": [
    "# Resolução Exercicios Aula 3"
   ]
  },
  {
   "cell_type": "code",
   "execution_count": 1,
   "metadata": {},
   "outputs": [
    {
     "name": "stderr",
     "output_type": "stream",
     "text": [
      "--2019-06-18 02:43:24--  https://drive.google.com/uc?export=download&id=1oTjCLXJZjciOmpweGsirlreu9zcrm6Py\n",
      "Resolving drive.google.com (drive.google.com)... 216.58.222.78, 2800:3f0:4004:804::200e\n",
      "Connecting to drive.google.com (drive.google.com)|216.58.222.78|:443... connected.\n",
      "HTTP request sent, awaiting response... 302 Moved Temporarily\n",
      "Location: https://doc-0k-54-docs.googleusercontent.com/docs/securesc/ha0ro937gcuc7l7deffksulhg5h7mbp1/kurqr34065l674832oli2q25rbo9a84k/1560830400000/11950412691737885275/*/1oTjCLXJZjciOmpweGsirlreu9zcrm6Py?e=download [following]\n",
      "Warning: wildcards not supported in HTTP.\n",
      "--2019-06-18 02:43:25--  https://doc-0k-54-docs.googleusercontent.com/docs/securesc/ha0ro937gcuc7l7deffksulhg5h7mbp1/kurqr34065l674832oli2q25rbo9a84k/1560830400000/11950412691737885275/*/1oTjCLXJZjciOmpweGsirlreu9zcrm6Py?e=download\n",
      "Resolving doc-0k-54-docs.googleusercontent.com (doc-0k-54-docs.googleusercontent.com)... 172.217.30.1, 2800:3f0:4004:801::2001\n",
      "Connecting to doc-0k-54-docs.googleusercontent.com (doc-0k-54-docs.googleusercontent.com)|172.217.30.1|:443... connected.\n",
      "HTTP request sent, awaiting response... 200 OK\n",
      "Length: unspecified [text/tab-separated-values]\n",
      "Saving to: ‘ingredients.tsv’\n",
      "\n",
      "     0K .......... .......... .......... .......... ..........  216K\n",
      "    50K .......... .......... .......... .......... ..........  336K\n",
      "   100K .......... .......... .......... .......... ..........  563K\n",
      "   150K .......... .......... .......... .......... .......... 1,45M\n",
      "   200K .......... .......... .......... .......... .......... 1,80M\n",
      "   250K .......... .......... .......... .......... .......... 1001K\n",
      "   300K .......... .......... .......... .......... .......... 1,87M\n",
      "   350K .......... .......... .......... .......... .......... 5,60M\n",
      "   400K .......... .......... .......... .......... .......... 4,12M\n",
      "   450K .......... .......... .......... .......... .......... 3,42M\n",
      "   500K .......... .......... .......... .......... .......... 5,14M\n",
      "   550K .......... .......... .......... .......... ..........  918K\n",
      "   600K .......... .......... .......... .......... .......... 4,40M\n",
      "   650K .......... .......... .......... .......... .......... 13,9M\n",
      "   700K .......... .......... .......... .......... .......... 5,32M\n",
      "   750K .......... .......... .......... .......... .......... 6,94M\n",
      "   800K .......... .......... .......... .......... .......... 8,17M\n",
      "   850K .......... .......... .......... .......... .......... 4,87M\n",
      "   900K .......... .......... .......... .......... .......... 2,30M\n",
      "   950K .......... .......... .......... .......... .......... 9,10M\n",
      "  1000K .......... .......... .......... .......... .......... 22,7M\n",
      "  1050K .......... .......... .......... .......... .......... 8,58M\n",
      "  1100K .......... .......... .......... .......... .......... 1,82M\n",
      "  1150K .......... .......... .......... .......... .......... 6,26M\n",
      "  1200K .......... .......... .......... .......... .......... 9,29M\n",
      "  1250K .......... .......... .......... .......... .......... 6,90M\n",
      "  1300K .......... .......... .......... .......... .......... 6,13M\n",
      "  1350K .......... .......... .......... .......... .......... 4,13M\n",
      "  1400K .......... .......... .......... .......... ..........  716K\n",
      "  1450K .......... .......... .......... .......... .......... 53,4M\n",
      "  1500K .......... .......... .......... .......... .......... 46,6M\n",
      "  1550K .......... .......... .......... .......... .......... 3,15M\n",
      "  1600K .......... .......... .......... .......... .......... 5,44M\n",
      "  1650K .......... .......... .......... .......... .......... 29,2M\n",
      "  1700K .......... .......... .......... .......... .......... 8,03M\n",
      "  1750K .......... .......... .......... .......... .......... 11,2M\n",
      "  1800K .......... .......... .......... .......... ..........  860K\n",
      "  1850K .......... .......... .......... .......... .......... 11,4M\n",
      "  1900K .......... .......... .......... .......... .......... 18,1M\n",
      "  1950K .......... .......... .......... .......... .......... 23,0M\n",
      "  2000K .......... .......... .......... .......... .......... 8,69M\n",
      "  2050K .......... .......... .......... .......... ..........  510K\n",
      "  2100K .......... .......... .......... .......... .......... 15,3M\n",
      "  2150K .......... .......... .......... .......... .......... 43,5M\n",
      "  2200K .......... .......... .......... .......... .......... 55,9M\n",
      "  2250K .......... .......... .......... .......... .......... 53,2M\n",
      "  2300K .......... .......... .......... .......... .......... 51,5M\n",
      "  2350K .......... .......... .......... .......... ..........  209K\n",
      "  2400K .......... .......... .......... .......... .......... 37,2M\n",
      "  2450K .......... .......... .......... .......... .......... 2,28M\n",
      "  2500K .......... .......... .......... .......... .......... 25,3M\n",
      "  2550K .......... .......... .......... .......... .......... 15,7M\n",
      "  2600K .......... .......... .......... .......... ..........  550K\n",
      "  2650K .......... .......... .......... .......... .......... 15,9M\n",
      "  2700K .......... .......... .......... .......... .......... 25,5M\n",
      "  2750K .......... .......... .......... .......... .......... 21,4M\n",
      "  2800K .......... .......... .......... .......... .......... 25,6M\n",
      "  2850K .......... .......... .......... .......... .......... 24,2M\n",
      "  2900K .......... .......... .......... .......... .......... 31,3M\n",
      "  2950K .......... .......... .......... .......... .......... 33,0M\n",
      "  3000K .......... .......... .......... .......... .......... 37,4M\n",
      "  3050K .......... .......... .......... .......... .......... 31,4M\n",
      "  3100K .......... .......... .......... .......... .......... 34,7M\n",
      "  3150K .......... .......... .......... .......... .......... 24,2M\n",
      "  3200K .......... .......... .......... .......... .......... 39,0M\n",
      "  3250K .......... .......... .......... .......... .......... 39,6M\n",
      "  3300K .......... .......... .......... .......... .......... 26,1M\n",
      "  3350K .......... .......... .......... .......... .......... 37,7M\n",
      "  3400K .......... .......... .......... .......... .......... 11,3M\n",
      "  3450K .......... .......... .......... .......... .......... 56,6M\n",
      "  3500K .......... .......... .......... .......... .......... 30,6M\n",
      "  3550K .......... .......... .......... .......... .......... 31,0M\n",
      "  3600K .......... .......... .......... .......... .......... 22,9M\n",
      "  3650K .......... .......... .......... .......... .......... 24,1M\n",
      "  3700K .......... .......... .......... .......... .......... 5,54M\n",
      "  3750K .......... .......... .......... .......... .......... 1,74M\n",
      "  3800K .......... .......... .......... .......... .......... 4,14M\n",
      "  3850K .......... .......... .......... .......... .......... 13,9M\n",
      "  3900K .......... .......... .......... .......... ..........  486K\n",
      "  3950K .......... .......... .......... .......... .......... 3,84M\n",
      "  4000K .......... .......... .......... .......... .......... 60,9M\n",
      "  4050K .......... .......... .......... .......... .......... 5,16M\n",
      "  4100K .......... .......... .......... .......... .......... 6,81M\n",
      "  4150K .......... .......... .......... .......... .......... 3,77M\n",
      "  4200K .......... .......... .......... .......... .......... 56,2M\n",
      "  4250K .......... .......... .......... .......... .......... 8,63M\n",
      "  4300K .......... .......... .......... .......... .......... 19,8M\n",
      "  4350K .......... .......... .......... .......... .......... 6,94M\n",
      "  4400K .......... .......... .......... .......... .......... 3,66M\n",
      "  4450K .......... .......... .......... .......... .......... 9,54M\n",
      "  4500K .......... .......... .......... .......... .......... 8,39M\n",
      "  4550K .......... .......... .......... .......... .......... 21,2M\n",
      "  4600K .......... .......... .......... .......... .......... 45,0M\n",
      "  4650K .......... .......... .......... .......... .......... 52,4M\n",
      "  4700K .......... .......... .......... .......... .......... 30,9M\n",
      "  4750K .......... .......... .......... .......... .......... 1,91M\n",
      "  4800K .......... .......... .......... .......... .......... 5,54M\n",
      "  4850K .......... .......... .......... .......... .......... 4,25M\n",
      "  4900K .......... .......... .......... .......... .......... 5,21M\n",
      "  4950K .......... .......... .......... .......... .......... 6,79M\n",
      "  5000K .......... .......... .......... .......... .......... 10,2M\n"
     ]
    },
    {
     "name": "stderr",
     "output_type": "stream",
     "text": [
      "  5050K .......... .......... .......... .......... .......... 9,29M\n",
      "  5100K .......... .......... .......... .......... .......... 4,92M\n",
      "  5150K .......... ...                                         50,4M=1,9s\n",
      "\n",
      "2019-06-18 02:43:27 (2,71 MB/s) - ‘ingredients.tsv’ saved [5287404]\n",
      "\n"
     ]
    },
    {
     "data": {
      "text/plain": [
       "\u001b[32mimport \u001b[39m\u001b[36msys.process._\n",
       "\n",
       "\u001b[39m\n",
       "\u001b[36mres0_1\u001b[39m: \u001b[32mInt\u001b[39m = \u001b[32m0\u001b[39m"
      ]
     },
     "execution_count": 1,
     "metadata": {},
     "output_type": "execute_result"
    }
   ],
   "source": [
    "import sys.process._\n",
    "\n",
    "\"wget -O ingredients.tsv https://drive.google.com/uc?export=download&id=1oTjCLXJZjciOmpweGsirlreu9zcrm6Py\"!"
   ]
  },
  {
   "cell_type": "code",
   "execution_count": 2,
   "metadata": {},
   "outputs": [
    {
     "data": {
      "text/plain": [
       "\u001b[32mimport \u001b[39m\u001b[36mscala.io.Source\n",
       "\u001b[39m\n",
       "\u001b[32mimport \u001b[39m\u001b[36mscala.collection.immutable.ListMap\n",
       "\u001b[39m\n",
       "\u001b[32mimport \u001b[39m\u001b[36mjava.sql.Timestamp\n",
       "\u001b[39m\n",
       "\u001b[32mimport \u001b[39m\u001b[36mjava.time.Instant\n",
       "\n",
       "\u001b[39m\n",
       "defined \u001b[32mclass\u001b[39m \u001b[36mAmostra\u001b[39m\n",
       "defined \u001b[32mclass\u001b[39m \u001b[36mAmostraMinMarca\u001b[39m\n",
       "defined \u001b[32mclass\u001b[39m \u001b[36mAmostraMinIngredientes\u001b[39m\n",
       "defined \u001b[32mclass\u001b[39m \u001b[36mAmostraMinQtdIngredientes\u001b[39m\n",
       "defined \u001b[32mclass\u001b[39m \u001b[36mAmostraMinMarcaIngredientes\u001b[39m\n",
       "defined \u001b[32mclass\u001b[39m \u001b[36mAmostraMinData\u001b[39m\n",
       "defined \u001b[32mclass\u001b[39m \u001b[36mMarcaIngredientes\u001b[39m"
      ]
     },
     "execution_count": 2,
     "metadata": {},
     "output_type": "execute_result"
    }
   ],
   "source": [
    "import scala.io.Source\n",
    "import scala.collection.immutable.ListMap\n",
    "import java.sql.Timestamp\n",
    "import java.time.Instant\n",
    "\n",
    "case class Amostra(id:String, asins:String, \n",
    "                   brand:String, categories:Array[String], \n",
    "                   dateAdded:String, dateUpdated:String, \n",
    "                   ean:String, features_key:String, \n",
    "                   features_value:Array[String],manufacturer:String,\n",
    "                   manufacturerNumber:String, name:String, \n",
    "                   sizes:String,upc:String,\n",
    "                   weight:String)\n",
    "\n",
    "case class AmostraMinMarca(id:String, brand:String)\n",
    "case class AmostraMinIngredientes(id:String, ingredients:Array[String])\n",
    "case class AmostraMinQtdIngredientes(id:String, ingredients:Integer)\n",
    "case class AmostraMinMarcaIngredientes(id:String, brand:String, ingredients:Array[String])\n",
    "case class AmostraMinData(id:String, date:Timestamp)\n",
    "case class MarcaIngredientes(brand:String,ingredients:Array[String])"
   ]
  },
  {
   "cell_type": "code",
   "execution_count": 3,
   "metadata": {},
   "outputs": [
    {
     "data": {
      "text/plain": [
       "\u001b[36mlines\u001b[39m: \u001b[32mIterator\u001b[39m[\u001b[32mString\u001b[39m] = <iterator>"
      ]
     },
     "execution_count": 3,
     "metadata": {},
     "output_type": "execute_result"
    }
   ],
   "source": [
    "var lines = Source.fromFile(\"ingredients.tsv\").getLines.drop(1)"
   ]
  },
  {
   "cell_type": "code",
   "execution_count": 4,
   "metadata": {},
   "outputs": [
    {
     "data": {
      "text/plain": [
       "\u001b[36mamostras\u001b[39m: \u001b[32mList\u001b[39m[\u001b[32mAmostraMinMarca\u001b[39m] = \u001b[33mList\u001b[39m(\n",
       "  \u001b[33mAmostraMinMarca\u001b[39m(\u001b[32m\"AVphBRHOilAPnD_x0OrE\"\u001b[39m, \u001b[32m\"Simon Fischer\"\u001b[39m),\n",
       "  \u001b[33mAmostraMinMarca\u001b[39m(\u001b[32m\"AVpfNFy1LJeJML434ma2\"\u001b[39m, \u001b[32m\"McCormick\"\u001b[39m),\n",
       "  \u001b[33mAmostraMinMarca\u001b[39m(\u001b[32m\"AVpgT49VLJeJML43MJEz\"\u001b[39m, \u001b[32m\"Jolly Time\"\u001b[39m),\n",
       "  \u001b[33mAmostraMinMarca\u001b[39m(\u001b[32m\"AVphYgnzLJeJML43aPp2\"\u001b[39m, \u001b[32m\"Ziyad\"\u001b[39m),\n",
       "  \u001b[33mAmostraMinMarca\u001b[39m(\u001b[32m\"AVpiS0bOLJeJML43kRsh\"\u001b[39m, \u001b[32m\"Fla-Vor-Ice\"\u001b[39m),\n",
       "  \u001b[33mAmostraMinMarca\u001b[39m(\u001b[32m\"AVpfiMykilAPnD_xdedK\"\u001b[39m, \u001b[32m\"Hero\"\u001b[39m),\n",
       "  \u001b[33mAmostraMinMarca\u001b[39m(\u001b[32m\"AVpgPmxs1cnluZ0-ypMt\"\u001b[39m, \u001b[32m\"Simply Asia\"\u001b[39m),\n",
       "  \u001b[33mAmostraMinMarca\u001b[39m(\u001b[32m\"AVphcTTBLJeJML43a9fO\"\u001b[39m, \u001b[32m\"EMERIL S\"\u001b[39m),\n",
       "  \u001b[33mAmostraMinMarca\u001b[39m(\u001b[32m\"AVpfwHjULJeJML43DEtY\"\u001b[39m, \u001b[32m\"Back to Nature\"\u001b[39m),\n",
       "  \u001b[33mAmostraMinMarca\u001b[39m(\u001b[32m\"AVphhxMQ1cnluZ0-Dif0\"\u001b[39m, \u001b[32m\"Nutrament\"\u001b[39m),\n",
       "  \u001b[33mAmostraMinMarca\u001b[39m(\u001b[32m\"AVpfDWxvilAPnD_xT4tp\"\u001b[39m, \u001b[32m\"kikkoman\"\u001b[39m),\n",
       "  \u001b[33mAmostraMinMarca\u001b[39m(\u001b[32m\"AVphKLCdilAPnD_x2BQN\"\u001b[39m, \u001b[32m\"kikkoman\"\u001b[39m),\n",
       "  \u001b[33mAmostraMinMarca\u001b[39m(\u001b[32m\"AVpgFz7X1cnluZ0-wUaz\"\u001b[39m, \u001b[32m\"Blue Diamond\"\u001b[39m),\n",
       "  \u001b[33mAmostraMinMarca\u001b[39m(\u001b[32m\"AVphO3fcilAPnD_x28B2\"\u001b[39m, \u001b[32m\"STELLA D'ORO\"\u001b[39m),\n",
       "  \u001b[33mAmostraMinMarca\u001b[39m(\u001b[32m\"AVpgNvQjilAPnD_xpKsf\"\u001b[39m, \u001b[32m\"Badia\"\u001b[39m),\n",
       "  \u001b[33mAmostraMinMarca\u001b[39m(\u001b[32m\"AVpgdOSALJeJML43OJcw\"\u001b[39m, \u001b[32m\"Tones\"\u001b[39m),\n",
       "  \u001b[33mAmostraMinMarca\u001b[39m(\u001b[32m\"AVpe5hIz1cnluZ0-ZVZx\"\u001b[39m, \u001b[32m\"Ferrara Candy Company\"\u001b[39m),\n",
       "  \u001b[33mAmostraMinMarca\u001b[39m(\u001b[32m\"AVphYBTPLJeJML43aJwm\"\u001b[39m, \u001b[32m\"Cornnuts\"\u001b[39m),\n",
       "  \u001b[33mAmostraMinMarca\u001b[39m(\u001b[32m\"AVpfnWvJ1cnluZ0-oC8I\"\u001b[39m, \u001b[32m\"Planters\"\u001b[39m),\n",
       "  \u001b[33mAmostraMinMarca\u001b[39m(\u001b[32m\"AVpi2uk2ilAPnD_xIIKs\"\u001b[39m, \u001b[32m\"Bob Evans\"\u001b[39m),\n",
       "  \u001b[33mAmostraMinMarca\u001b[39m(\u001b[32m\"AVpfmWllLJeJML43AM-4\"\u001b[39m, \u001b[32m\"Tone's\"\u001b[39m),\n",
       "  \u001b[33mAmostraMinMarca\u001b[39m(\u001b[32m\"AVpiUbKnLJeJML43khxs\"\u001b[39m, \u001b[32m\"Nature's Path\"\u001b[39m),\n",
       "  \u001b[33mAmostraMinMarca\u001b[39m(\u001b[32m\"AVpgBtk-LJeJML43Htl2\"\u001b[39m, \u001b[32m\"Spice Islands\"\u001b[39m),\n",
       "  \u001b[33mAmostraMinMarca\u001b[39m(\u001b[32m\"AVpgOvPvLJeJML43K38h\"\u001b[39m, \u001b[32m\"Kernel Season's\"\u001b[39m),\n",
       "  \u001b[33mAmostraMinMarca\u001b[39m(\u001b[32m\"AVpf9hxh1cnluZ0-uLiC\"\u001b[39m, \u001b[32m\"Iberia\"\u001b[39m),\n",
       "  \u001b[33mAmostraMinMarca\u001b[39m(\u001b[32m\"AVpfNqVbilAPnD_xXV_6\"\u001b[39m, \u001b[32m\"Goya Food\"\u001b[39m),\n",
       "  \u001b[33mAmostraMinMarca\u001b[39m(\u001b[32m\"AVpfX5KQilAPnD_xanq_\"\u001b[39m, \u001b[32m\"Badia Spice\"\u001b[39m),\n",
       "  \u001b[33mAmostraMinMarca\u001b[39m(\u001b[32m\"AVpjFN65ilAPnD_xKQ1i\"\u001b[39m, \u001b[32m\"Morton & Bassett\"\u001b[39m),\n",
       "  \u001b[33mAmostraMinMarca\u001b[39m(\u001b[32m\"AVph33VzilAPnD_x-SDC\"\u001b[39m, \u001b[32m\"Crown Prince\"\u001b[39m),\n",
       "  \u001b[33mAmostraMinMarca\u001b[39m(\u001b[32m\"AVpgwv5WilAPnD_xw_ye\"\u001b[39m, \u001b[32m\"Badia\"\u001b[39m),\n",
       "  \u001b[33mAmostraMinMarca\u001b[39m(\u001b[32m\"AVpfEnoOLJeJML431xEE\"\u001b[39m, \u001b[32m\"Cento\"\u001b[39m),\n",
       "  \u001b[33mAmostraMinMarca\u001b[39m(\u001b[32m\"AVpfkkMcilAPnD_xeNMt\"\u001b[39m, \u001b[32m\"Blue Diamond\"\u001b[39m),\n",
       "  \u001b[33mAmostraMinMarca\u001b[39m(\u001b[32m\"AVpfzpTZLJeJML43EF2A\"\u001b[39m, \u001b[32m\"Williams\"\u001b[39m),\n",
       "  \u001b[33mAmostraMinMarca\u001b[39m(\u001b[32m\"AVpgElUIilAPnD_xm_uI\"\u001b[39m, \u001b[32m\"Marco Polo\"\u001b[39m),\n",
       "  \u001b[33mAmostraMinMarca\u001b[39m(\u001b[32m\"AVpgGxGGilAPnD_xnieK\"\u001b[39m, \u001b[32m\"Bionaturae\"\u001b[39m),\n",
       "  \u001b[33mAmostraMinMarca\u001b[39m(\u001b[32m\"AVphPbUbilAPnD_x3C35\"\u001b[39m, \u001b[32m\"Lay's\"\u001b[39m),\n",
       "  \u001b[33mAmostraMinMarca\u001b[39m(\u001b[32m\"AVpfPEvEilAPnD_xXz6W\"\u001b[39m, \u001b[32m\"Maggi\"\u001b[39m),\n",
       "  \u001b[33mAmostraMinMarca\u001b[39m(\u001b[32m\"AVpfJqySilAPnD_xWCX9\"\u001b[39m, \u001b[32m\"Polaner\"\u001b[39m),\n",
       "..."
      ]
     },
     "execution_count": 4,
     "metadata": {},
     "output_type": "execute_result"
    }
   ],
   "source": [
    "val amostras = lines\n",
    "    //separando os valores por tabulação\n",
    "    .map(_.split(\"\\t\"))\n",
    "    //transformando as linhas em Amostras\n",
    "    .map(l => AmostraMinMarca(l.head, l(2)))\n",
    "    .toList\n",
    "\n",
    "lines = Source.fromFile(\"ingredients.tsv\").getLines.drop(1)\n",
    "\n"
   ]
  },
  {
   "cell_type": "code",
   "execution_count": null,
   "metadata": {},
   "outputs": [],
   "source": []
  },
  {
   "cell_type": "markdown",
   "metadata": {},
   "source": [
    "#### Questão 1"
   ]
  },
  {
   "cell_type": "code",
   "execution_count": 5,
   "metadata": {},
   "outputs": [
    {
     "data": {
      "text/plain": [
       "\u001b[36mmarcas\u001b[39m: \u001b[32mList\u001b[39m[\u001b[32mString\u001b[39m] = \u001b[33mList\u001b[39m(\n",
       "  \u001b[32m\"Simon Fischer\"\u001b[39m,\n",
       "  \u001b[32m\"McCormick\"\u001b[39m,\n",
       "  \u001b[32m\"Jolly Time\"\u001b[39m,\n",
       "  \u001b[32m\"Ziyad\"\u001b[39m,\n",
       "  \u001b[32m\"Fla-Vor-Ice\"\u001b[39m,\n",
       "  \u001b[32m\"Hero\"\u001b[39m,\n",
       "  \u001b[32m\"Simply Asia\"\u001b[39m,\n",
       "  \u001b[32m\"EMERIL S\"\u001b[39m,\n",
       "  \u001b[32m\"Back to Nature\"\u001b[39m,\n",
       "  \u001b[32m\"Nutrament\"\u001b[39m,\n",
       "  \u001b[32m\"kikkoman\"\u001b[39m,\n",
       "  \u001b[32m\"kikkoman\"\u001b[39m,\n",
       "  \u001b[32m\"Blue Diamond\"\u001b[39m,\n",
       "  \u001b[32m\"STELLA D'ORO\"\u001b[39m,\n",
       "  \u001b[32m\"Badia\"\u001b[39m,\n",
       "  \u001b[32m\"Tones\"\u001b[39m,\n",
       "  \u001b[32m\"Ferrara Candy Company\"\u001b[39m,\n",
       "  \u001b[32m\"Cornnuts\"\u001b[39m,\n",
       "  \u001b[32m\"Planters\"\u001b[39m,\n",
       "  \u001b[32m\"Bob Evans\"\u001b[39m,\n",
       "  \u001b[32m\"Tone's\"\u001b[39m,\n",
       "  \u001b[32m\"Nature's Path\"\u001b[39m,\n",
       "  \u001b[32m\"Spice Islands\"\u001b[39m,\n",
       "  \u001b[32m\"Kernel Season's\"\u001b[39m,\n",
       "  \u001b[32m\"Iberia\"\u001b[39m,\n",
       "  \u001b[32m\"Goya Food\"\u001b[39m,\n",
       "  \u001b[32m\"Badia Spice\"\u001b[39m,\n",
       "  \u001b[32m\"Morton & Bassett\"\u001b[39m,\n",
       "  \u001b[32m\"Crown Prince\"\u001b[39m,\n",
       "  \u001b[32m\"Badia\"\u001b[39m,\n",
       "  \u001b[32m\"Cento\"\u001b[39m,\n",
       "  \u001b[32m\"Blue Diamond\"\u001b[39m,\n",
       "  \u001b[32m\"Williams\"\u001b[39m,\n",
       "  \u001b[32m\"Marco Polo\"\u001b[39m,\n",
       "  \u001b[32m\"Bionaturae\"\u001b[39m,\n",
       "  \u001b[32m\"Lay's\"\u001b[39m,\n",
       "  \u001b[32m\"Maggi\"\u001b[39m,\n",
       "  \u001b[32m\"Polaner\"\u001b[39m,\n",
       "..."
      ]
     },
     "execution_count": 5,
     "metadata": {},
     "output_type": "execute_result"
    }
   ],
   "source": [
    "val marcas = amostras.map(a => a.brand)"
   ]
  },
  {
   "cell_type": "code",
   "execution_count": 6,
   "metadata": {},
   "outputs": [
    {
     "data": {
      "text/plain": [
       "\u001b[36mmarcasUnique\u001b[39m: \u001b[32mList\u001b[39m[\u001b[32mString\u001b[39m] = \u001b[33mList\u001b[39m(\n",
       "  \u001b[32m\"Simon Fischer\"\u001b[39m,\n",
       "  \u001b[32m\"McCormick\"\u001b[39m,\n",
       "  \u001b[32m\"Jolly Time\"\u001b[39m,\n",
       "  \u001b[32m\"Ziyad\"\u001b[39m,\n",
       "  \u001b[32m\"Fla-Vor-Ice\"\u001b[39m,\n",
       "  \u001b[32m\"Hero\"\u001b[39m,\n",
       "  \u001b[32m\"Simply Asia\"\u001b[39m,\n",
       "  \u001b[32m\"EMERIL S\"\u001b[39m,\n",
       "  \u001b[32m\"Back to Nature\"\u001b[39m,\n",
       "  \u001b[32m\"Nutrament\"\u001b[39m,\n",
       "  \u001b[32m\"kikkoman\"\u001b[39m,\n",
       "  \u001b[32m\"Blue Diamond\"\u001b[39m,\n",
       "  \u001b[32m\"STELLA D'ORO\"\u001b[39m,\n",
       "  \u001b[32m\"Badia\"\u001b[39m,\n",
       "  \u001b[32m\"Tones\"\u001b[39m,\n",
       "  \u001b[32m\"Ferrara Candy Company\"\u001b[39m,\n",
       "  \u001b[32m\"Cornnuts\"\u001b[39m,\n",
       "  \u001b[32m\"Planters\"\u001b[39m,\n",
       "  \u001b[32m\"Bob Evans\"\u001b[39m,\n",
       "  \u001b[32m\"Tone's\"\u001b[39m,\n",
       "  \u001b[32m\"Nature's Path\"\u001b[39m,\n",
       "  \u001b[32m\"Spice Islands\"\u001b[39m,\n",
       "  \u001b[32m\"Kernel Season's\"\u001b[39m,\n",
       "  \u001b[32m\"Iberia\"\u001b[39m,\n",
       "  \u001b[32m\"Goya Food\"\u001b[39m,\n",
       "  \u001b[32m\"Badia Spice\"\u001b[39m,\n",
       "  \u001b[32m\"Morton & Bassett\"\u001b[39m,\n",
       "  \u001b[32m\"Crown Prince\"\u001b[39m,\n",
       "  \u001b[32m\"Cento\"\u001b[39m,\n",
       "  \u001b[32m\"Williams\"\u001b[39m,\n",
       "  \u001b[32m\"Marco Polo\"\u001b[39m,\n",
       "  \u001b[32m\"Bionaturae\"\u001b[39m,\n",
       "  \u001b[32m\"Lay's\"\u001b[39m,\n",
       "  \u001b[32m\"Maggi\"\u001b[39m,\n",
       "  \u001b[32m\"Polaner\"\u001b[39m,\n",
       "  \u001b[32m\"Simply Organic\"\u001b[39m,\n",
       "  \u001b[32m\"Coffee-Mate\"\u001b[39m,\n",
       "  \u001b[32m\"Kellogg's\"\u001b[39m,\n",
       "...\n",
       "\u001b[36mres5_1\u001b[39m: \u001b[32mInt\u001b[39m = \u001b[32m3144\u001b[39m"
      ]
     },
     "execution_count": 6,
     "metadata": {},
     "output_type": "execute_result"
    }
   ],
   "source": [
    "val marcasUnique = marcas.distinct\n",
    "marcasUnique.size"
   ]
  },
  {
   "cell_type": "code",
   "execution_count": 7,
   "metadata": {},
   "outputs": [
    {
     "data": {
      "text/plain": [
       "\u001b[36mres6\u001b[39m: \u001b[32mList\u001b[39m[\u001b[32mString\u001b[39m] = \u001b[33mList\u001b[39m(\n",
       "  \u001b[32m\"Simon Fischer\"\u001b[39m,\n",
       "  \u001b[32m\"McCormick\"\u001b[39m,\n",
       "  \u001b[32m\"Jolly Time\"\u001b[39m,\n",
       "  \u001b[32m\"Ziyad\"\u001b[39m,\n",
       "  \u001b[32m\"Fla-Vor-Ice\"\u001b[39m\n",
       ")"
      ]
     },
     "execution_count": 7,
     "metadata": {},
     "output_type": "execute_result"
    }
   ],
   "source": [
    "marcasUnique.take(5)"
   ]
  },
  {
   "cell_type": "markdown",
   "metadata": {},
   "source": [
    "#### Questão 2"
   ]
  },
  {
   "cell_type": "code",
   "execution_count": 8,
   "metadata": {},
   "outputs": [
    {
     "data": {
      "text/plain": [
       "\u001b[36mmarcasCount\u001b[39m: \u001b[32mMap\u001b[39m[\u001b[32mString\u001b[39m, \u001b[32mInt\u001b[39m] = \u001b[33mMap\u001b[39m(\n",
       "  \u001b[32m\"ChocZero\"\u001b[39m -> \u001b[32m7\u001b[39m,\n",
       "  \u001b[32m\"Fudge Shoppe\"\u001b[39m -> \u001b[32m2\u001b[39m,\n",
       "  \u001b[32m\"Nabisco\"\u001b[39m -> \u001b[32m33\u001b[39m,\n",
       "  \u001b[32m\"WarHeads\"\u001b[39m -> \u001b[32m1\u001b[39m,\n",
       "  \u001b[32m\"Pappy's\"\u001b[39m -> \u001b[32m1\u001b[39m,\n",
       "  \u001b[32m\"Morton & Bassett\"\u001b[39m -> \u001b[32m2\u001b[39m,\n",
       "  \u001b[32m\"Chocolove\"\u001b[39m -> \u001b[32m4\u001b[39m,\n",
       "  \u001b[32m\"Organic Valley\"\u001b[39m -> \u001b[32m6\u001b[39m,\n",
       "  \u001b[32m\"Dove\"\u001b[39m -> \u001b[32m4\u001b[39m,\n",
       "  \u001b[32m\"Yum Earth\"\u001b[39m -> \u001b[32m1\u001b[39m,\n",
       "  \u001b[32m\"DaVinci\"\u001b[39m -> \u001b[32m1\u001b[39m,\n",
       "  \u001b[32m\"Mike's Popcorn\"\u001b[39m -> \u001b[32m1\u001b[39m,\n",
       "  \u001b[32m\"Mokulele Farms\"\u001b[39m -> \u001b[32m1\u001b[39m,\n",
       "  \u001b[32m\"Tadin\"\u001b[39m -> \u001b[32m3\u001b[39m,\n",
       "  \u001b[32m\"Bridgford\"\u001b[39m -> \u001b[32m3\u001b[39m,\n",
       "  \u001b[32m\"KAY'S NATURAL\"\u001b[39m -> \u001b[32m1\u001b[39m,\n",
       "  \u001b[32m\"Werthers\"\u001b[39m -> \u001b[32m2\u001b[39m,\n",
       "  \u001b[32m\"Bella Viva Dried Fruit\"\u001b[39m -> \u001b[32m1\u001b[39m,\n",
       "  \u001b[32m\"CAFE DU MOND\"\u001b[39m -> \u001b[32m1\u001b[39m,\n",
       "  \u001b[32m\"Caramel Creams\"\u001b[39m -> \u001b[32m1\u001b[39m,\n",
       "  \u001b[32m\"Bear Creek\"\u001b[39m -> \u001b[32m1\u001b[39m,\n",
       "  \u001b[32m\"Mexicali Rose\"\u001b[39m -> \u001b[32m1\u001b[39m,\n",
       "  \u001b[32m\"Emeril\"\u001b[39m -> \u001b[32m3\u001b[39m,\n",
       "  \u001b[32m\"Zcalo Peru\"\u001b[39m -> \u001b[32m1\u001b[39m,\n",
       "  \u001b[32m\"Maxwell House\"\u001b[39m -> \u001b[32m25\u001b[39m,\n",
       "  \u001b[32m\"Diabetic Friendly\"\u001b[39m -> \u001b[32m3\u001b[39m,\n",
       "  \u001b[32m\"Goldbaum's\"\u001b[39m -> \u001b[32m1\u001b[39m,\n",
       "  \u001b[32m\"TRAPPIST\"\u001b[39m -> \u001b[32m3\u001b[39m,\n",
       "  \u001b[32m\"Bio Nutrition\"\u001b[39m -> \u001b[32m2\u001b[39m,\n",
       "  \u001b[32m\"Cadbury Dairy Milk\"\u001b[39m -> \u001b[32m1\u001b[39m,\n",
       "  \u001b[32m\"Mars Chocolate\"\u001b[39m -> \u001b[32m1\u001b[39m,\n",
       "  \u001b[32m\"Quinn Foods\"\u001b[39m -> \u001b[32m1\u001b[39m,\n",
       "  \u001b[32m\"Sweetarts\"\u001b[39m -> \u001b[32m1\u001b[39m,\n",
       "  \u001b[32m\"Tosi Health\"\u001b[39m -> \u001b[32m1\u001b[39m,\n",
       "  \u001b[32m\"Runa Clean Energy Drinks\"\u001b[39m -> \u001b[32m1\u001b[39m,\n",
       "  \u001b[32m\"Martha White\\u00ef\\u00bf\\u00bd\\u00ef\\u00bf\\u00bd\"\u001b[39m -> \u001b[32m2\u001b[39m,\n",
       "  \u001b[32m\"CoCo Libre\"\u001b[39m -> \u001b[32m1\u001b[39m,\n",
       "  \u001b[32m\"Town House\"\u001b[39m -> \u001b[32m2\u001b[39m,\n",
       "..."
      ]
     },
     "execution_count": 8,
     "metadata": {},
     "output_type": "execute_result"
    }
   ],
   "source": [
    "val marcasCount = marcas.filter(m => m != \"\").groupBy(identity).mapValues(_.size)"
   ]
  },
  {
   "cell_type": "code",
   "execution_count": 9,
   "metadata": {},
   "outputs": [
    {
     "data": {
      "text/plain": [
       "\u001b[36mmarcasCountSortedDesc\u001b[39m: \u001b[32mSeq\u001b[39m[(\u001b[32mString\u001b[39m, \u001b[32mInt\u001b[39m)] = \u001b[33mVector\u001b[39m(\n",
       "  (\u001b[32m\"Goya Food\"\u001b[39m, \u001b[32m77\u001b[39m),\n",
       "  (\u001b[32m\"CVS Gold Emblem\"\u001b[39m, \u001b[32m75\u001b[39m),\n",
       "  (\u001b[32m\"Roland\"\u001b[39m, \u001b[32m75\u001b[39m),\n",
       "  (\u001b[32m\"Bob's Red Mill\"\u001b[39m, \u001b[32m71\u001b[39m),\n",
       "  (\u001b[32m\"Smart Sense\"\u001b[39m, \u001b[32m70\u001b[39m),\n",
       "  (\u001b[32m\"Betty Crocker\"\u001b[39m, \u001b[32m61\u001b[39m),\n",
       "  (\u001b[32m\"McCormick\"\u001b[39m, \u001b[32m56\u001b[39m),\n",
       "  (\u001b[32m\"Kellogg's\"\u001b[39m, \u001b[32m53\u001b[39m),\n",
       "  (\u001b[32m\"Utz\"\u001b[39m, \u001b[32m51\u001b[39m),\n",
       "  (\u001b[32m\"Black Tie Mercantile\"\u001b[39m, \u001b[32m51\u001b[39m),\n",
       "  (\u001b[32m\"Quaker\"\u001b[39m, \u001b[32m49\u001b[39m),\n",
       "  (\u001b[32m\"Gatorade\"\u001b[39m, \u001b[32m49\u001b[39m),\n",
       "  (\u001b[32m\"Twinings\"\u001b[39m, \u001b[32m44\u001b[39m),\n",
       "  (\u001b[32m\"Kraft\"\u001b[39m, \u001b[32m41\u001b[39m),\n",
       "  (\u001b[32m\"Hormel\"\u001b[39m, \u001b[32m37\u001b[39m),\n",
       "  (\u001b[32m\"Jelly Belly\"\u001b[39m, \u001b[32m36\u001b[39m),\n",
       "  (\u001b[32m\"Folgers\"\u001b[39m, \u001b[32m35\u001b[39m),\n",
       "  (\u001b[32m\"Snapple\"\u001b[39m, \u001b[32m34\u001b[39m),\n",
       "  (\u001b[32m\"Nabisco\"\u001b[39m, \u001b[32m33\u001b[39m),\n",
       "  (\u001b[32m\"Manischewitz\"\u001b[39m, \u001b[32m33\u001b[39m),\n",
       "  (\u001b[32m\"Newman's Own\"\u001b[39m, \u001b[32m33\u001b[39m),\n",
       "  (\u001b[32m\"Pillsbury\"\u001b[39m, \u001b[32m32\u001b[39m),\n",
       "  (\u001b[32m\"Canada Dry\"\u001b[39m, \u001b[32m32\u001b[39m),\n",
       "  (\u001b[32m\"Lipton\"\u001b[39m, \u001b[32m31\u001b[39m),\n",
       "  (\u001b[32m\"Planters\"\u001b[39m, \u001b[32m31\u001b[39m),\n",
       "  (\u001b[32m\"Keebler\"\u001b[39m, \u001b[32m30\u001b[39m),\n",
       "  (\u001b[32m\"Oscar Mayer\"\u001b[39m, \u001b[32m29\u001b[39m),\n",
       "  (\u001b[32m\"Trident\"\u001b[39m, \u001b[32m29\u001b[39m),\n",
       "  (\u001b[32m\"Lindt\"\u001b[39m, \u001b[32m28\u001b[39m),\n",
       "  (\u001b[32m\"Sara Lee\"\u001b[39m, \u001b[32m28\u001b[39m),\n",
       "  (\u001b[32m\"Hodgson Mill\"\u001b[39m, \u001b[32m28\u001b[39m),\n",
       "  (\u001b[32m\"Barilla\"\u001b[39m, \u001b[32m27\u001b[39m),\n",
       "  (\u001b[32m\"Colavita\"\u001b[39m, \u001b[32m27\u001b[39m),\n",
       "  (\u001b[32m\"Del Monte\"\u001b[39m, \u001b[32m27\u001b[39m),\n",
       "  (\u001b[32m\"DeLallo\"\u001b[39m, \u001b[32m27\u001b[39m),\n",
       "  (\u001b[32m\"Voortman\"\u001b[39m, \u001b[32m26\u001b[39m),\n",
       "  (\u001b[32m\"Badia\"\u001b[39m, \u001b[32m26\u001b[39m),\n",
       "  (\u001b[32m\"Maxwell House\"\u001b[39m, \u001b[32m25\u001b[39m),\n",
       "...\n",
       "\u001b[36mmarcasCountSortedAsc\u001b[39m: \u001b[32mSeq\u001b[39m[(\u001b[32mString\u001b[39m, \u001b[32mInt\u001b[39m)] = \u001b[33mVector\u001b[39m(\n",
       "  (\u001b[32m\"WarHeads\"\u001b[39m, \u001b[32m1\u001b[39m),\n",
       "  (\u001b[32m\"Pappy's\"\u001b[39m, \u001b[32m1\u001b[39m),\n",
       "  (\u001b[32m\"Yum Earth\"\u001b[39m, \u001b[32m1\u001b[39m),\n",
       "  (\u001b[32m\"DaVinci\"\u001b[39m, \u001b[32m1\u001b[39m),\n",
       "  (\u001b[32m\"Mike's Popcorn\"\u001b[39m, \u001b[32m1\u001b[39m),\n",
       "  (\u001b[32m\"Mokulele Farms\"\u001b[39m, \u001b[32m1\u001b[39m),\n",
       "  (\u001b[32m\"KAY'S NATURAL\"\u001b[39m, \u001b[32m1\u001b[39m),\n",
       "  (\u001b[32m\"Bella Viva Dried Fruit\"\u001b[39m, \u001b[32m1\u001b[39m),\n",
       "  (\u001b[32m\"CAFE DU MOND\"\u001b[39m, \u001b[32m1\u001b[39m),\n",
       "  (\u001b[32m\"Caramel Creams\"\u001b[39m, \u001b[32m1\u001b[39m),\n",
       "  (\u001b[32m\"Bear Creek\"\u001b[39m, \u001b[32m1\u001b[39m),\n",
       "  (\u001b[32m\"Mexicali Rose\"\u001b[39m, \u001b[32m1\u001b[39m),\n",
       "  (\u001b[32m\"Zcalo Peru\"\u001b[39m, \u001b[32m1\u001b[39m),\n",
       "  (\u001b[32m\"Goldbaum's\"\u001b[39m, \u001b[32m1\u001b[39m),\n",
       "  (\u001b[32m\"Cadbury Dairy Milk\"\u001b[39m, \u001b[32m1\u001b[39m),\n",
       "  (\u001b[32m\"Mars Chocolate\"\u001b[39m, \u001b[32m1\u001b[39m),\n",
       "  (\u001b[32m\"Quinn Foods\"\u001b[39m, \u001b[32m1\u001b[39m),\n",
       "  (\u001b[32m\"Sweetarts\"\u001b[39m, \u001b[32m1\u001b[39m),\n",
       "  (\u001b[32m\"Tosi Health\"\u001b[39m, \u001b[32m1\u001b[39m),\n",
       "  (\u001b[32m\"Runa Clean Energy Drinks\"\u001b[39m, \u001b[32m1\u001b[39m),\n",
       "  (\u001b[32m\"CoCo Libre\"\u001b[39m, \u001b[32m1\u001b[39m),\n",
       "  (\u001b[32m\"gallo\"\u001b[39m, \u001b[32m1\u001b[39m),\n",
       "  (\u001b[32m\"Rao's\"\u001b[39m, \u001b[32m1\u001b[39m),\n",
       "  (\u001b[32m\"Simpkins\"\u001b[39m, \u001b[32m1\u001b[39m),\n",
       "  (\u001b[32m\"Steaz\"\u001b[39m, \u001b[32m1\u001b[39m),\n",
       "  (\u001b[32m\"KENS SALAD DRESSING\"\u001b[39m, \u001b[32m1\u001b[39m),\n",
       "  (\u001b[32m\"Cafe Don Pablo\"\u001b[39m, \u001b[32m1\u001b[39m),\n",
       "  (\u001b[32m\"Butterkist\"\u001b[39m, \u001b[32m1\u001b[39m),\n",
       "  (\u001b[32m\"Katja\"\u001b[39m, \u001b[32m1\u001b[39m),\n",
       "  (\u001b[32m\"Golden Barrel\"\u001b[39m, \u001b[32m1\u001b[39m),\n",
       "  (\u001b[32m\"The TeaRoom\"\u001b[39m, \u001b[32m1\u001b[39m),\n",
       "  (\u001b[32m\"Blow Pops\"\u001b[39m, \u001b[32m1\u001b[39m),\n",
       "  (\u001b[32m\"Steviva Brands\"\u001b[39m, \u001b[32m1\u001b[39m),\n",
       "  (\u001b[32m\"Ol\\u00c3\\u00a9\"\u001b[39m, \u001b[32m1\u001b[39m),\n",
       "  (\u001b[32m\"Adams Manufacturing\"\u001b[39m, \u001b[32m1\u001b[39m),\n",
       "  (\u001b[32m\"YOGI\"\u001b[39m, \u001b[32m1\u001b[39m),\n",
       "  (\u001b[32m\"LesserEvil Healthy Brands\"\u001b[39m, \u001b[32m1\u001b[39m),\n",
       "  (\u001b[32m\"Food Merchants\"\u001b[39m, \u001b[32m1\u001b[39m),\n",
       "...\n",
       "\u001b[36mmostCommonMarcas\u001b[39m: \u001b[32mSeq\u001b[39m[(\u001b[32mString\u001b[39m, \u001b[32mInt\u001b[39m)] = \u001b[33mVector\u001b[39m(\n",
       "  (\u001b[32m\"Goya Food\"\u001b[39m, \u001b[32m77\u001b[39m),\n",
       "  (\u001b[32m\"CVS Gold Emblem\"\u001b[39m, \u001b[32m75\u001b[39m),\n",
       "  (\u001b[32m\"Roland\"\u001b[39m, \u001b[32m75\u001b[39m),\n",
       "  (\u001b[32m\"Bob's Red Mill\"\u001b[39m, \u001b[32m71\u001b[39m),\n",
       "  (\u001b[32m\"Smart Sense\"\u001b[39m, \u001b[32m70\u001b[39m)\n",
       ")\n",
       "\u001b[36mfewCommonMarcas\u001b[39m: \u001b[32mSeq\u001b[39m[(\u001b[32mString\u001b[39m, \u001b[32mInt\u001b[39m)] = \u001b[33mVector\u001b[39m(\n",
       "  (\u001b[32m\"WarHeads\"\u001b[39m, \u001b[32m1\u001b[39m),\n",
       "  (\u001b[32m\"Pappy's\"\u001b[39m, \u001b[32m1\u001b[39m),\n",
       "  (\u001b[32m\"Yum Earth\"\u001b[39m, \u001b[32m1\u001b[39m),\n",
       "  (\u001b[32m\"DaVinci\"\u001b[39m, \u001b[32m1\u001b[39m),\n",
       "  (\u001b[32m\"Mike's Popcorn\"\u001b[39m, \u001b[32m1\u001b[39m)\n",
       ")"
      ]
     },
     "execution_count": 9,
     "metadata": {},
     "output_type": "execute_result"
    }
   ],
   "source": [
    "val marcasCountSortedDesc = marcasCount.toSeq.sortWith(_._2 > _._2)\n",
    "val marcasCountSortedAsc = marcasCount.toSeq.sortWith(_._2 < _._2)\n",
    "val mostCommonMarcas = marcasCountSortedDesc.take(5)\n",
    "val fewCommonMarcas = marcasCountSortedAsc.take(5)"
   ]
  },
  {
   "cell_type": "markdown",
   "metadata": {},
   "source": [
    "### Questão 3"
   ]
  },
  {
   "cell_type": "code",
   "execution_count": 10,
   "metadata": {},
   "outputs": [
    {
     "data": {
      "text/plain": [
       "\u001b[36mmarcasCountValues\u001b[39m: \u001b[32mList\u001b[39m[\u001b[32mInt\u001b[39m] = \u001b[33mList\u001b[39m(\n",
       "  \u001b[32m7\u001b[39m,\n",
       "  \u001b[32m2\u001b[39m,\n",
       "  \u001b[32m33\u001b[39m,\n",
       "  \u001b[32m1\u001b[39m,\n",
       "  \u001b[32m1\u001b[39m,\n",
       "  \u001b[32m2\u001b[39m,\n",
       "  \u001b[32m4\u001b[39m,\n",
       "  \u001b[32m6\u001b[39m,\n",
       "  \u001b[32m4\u001b[39m,\n",
       "  \u001b[32m1\u001b[39m,\n",
       "  \u001b[32m1\u001b[39m,\n",
       "  \u001b[32m1\u001b[39m,\n",
       "  \u001b[32m1\u001b[39m,\n",
       "  \u001b[32m3\u001b[39m,\n",
       "  \u001b[32m3\u001b[39m,\n",
       "  \u001b[32m1\u001b[39m,\n",
       "  \u001b[32m2\u001b[39m,\n",
       "  \u001b[32m1\u001b[39m,\n",
       "  \u001b[32m1\u001b[39m,\n",
       "  \u001b[32m1\u001b[39m,\n",
       "  \u001b[32m1\u001b[39m,\n",
       "  \u001b[32m1\u001b[39m,\n",
       "  \u001b[32m3\u001b[39m,\n",
       "  \u001b[32m1\u001b[39m,\n",
       "  \u001b[32m25\u001b[39m,\n",
       "  \u001b[32m3\u001b[39m,\n",
       "  \u001b[32m1\u001b[39m,\n",
       "  \u001b[32m3\u001b[39m,\n",
       "  \u001b[32m2\u001b[39m,\n",
       "  \u001b[32m1\u001b[39m,\n",
       "  \u001b[32m1\u001b[39m,\n",
       "  \u001b[32m1\u001b[39m,\n",
       "  \u001b[32m1\u001b[39m,\n",
       "  \u001b[32m1\u001b[39m,\n",
       "  \u001b[32m1\u001b[39m,\n",
       "  \u001b[32m2\u001b[39m,\n",
       "  \u001b[32m1\u001b[39m,\n",
       "  \u001b[32m2\u001b[39m,\n",
       "..."
      ]
     },
     "execution_count": 10,
     "metadata": {},
     "output_type": "execute_result"
    }
   ],
   "source": [
    "val marcasCountValues = marcasCount.values.toList"
   ]
  },
  {
   "cell_type": "code",
   "execution_count": 11,
   "metadata": {},
   "outputs": [
    {
     "data": {
      "text/plain": [
       "\u001b[36mmarcasCountMean\u001b[39m: \u001b[32mInt\u001b[39m = \u001b[32m2\u001b[39m"
      ]
     },
     "execution_count": 11,
     "metadata": {},
     "output_type": "execute_result"
    }
   ],
   "source": [
    "val marcasCountMean = (marcasCountValues.sum/marcasCountValues.size)"
   ]
  },
  {
   "cell_type": "code",
   "execution_count": 12,
   "metadata": {},
   "outputs": [
    {
     "data": {
      "text/plain": [
       "\u001b[32mimport \u001b[39m\u001b[36mNumeric.Implicits._\n",
       "\n",
       "\u001b[39m\n",
       "defined \u001b[32mfunction\u001b[39m \u001b[36mmean\u001b[39m\n",
       "defined \u001b[32mfunction\u001b[39m \u001b[36mvariance\u001b[39m\n",
       "defined \u001b[32mfunction\u001b[39m \u001b[36mstdDev\u001b[39m\n",
       "\u001b[36mmarcasCountStddev\u001b[39m: \u001b[32mDouble\u001b[39m = \u001b[32m5.472443617673441\u001b[39m"
      ]
     },
     "execution_count": 12,
     "metadata": {},
     "output_type": "execute_result"
    }
   ],
   "source": [
    "import Numeric.Implicits._\n",
    "\n",
    "def mean[T: Numeric](xs: Iterable[T]): Double = xs.sum.toDouble / xs.size\n",
    "\n",
    "def variance[T: Numeric](xs: Iterable[T]): Double = {\n",
    "  val avg = mean(xs)\n",
    "\n",
    "  xs.map(_.toDouble).map(a => math.pow(a - avg, 2)).sum / xs.size\n",
    "}\n",
    "\n",
    "def stdDev[T: Numeric](xs: Iterable[T]): Double = math.sqrt(variance(xs))\n",
    "\n",
    "val marcasCountStddev = stdDev(marcasCountValues)"
   ]
  },
  {
   "cell_type": "markdown",
   "metadata": {},
   "source": [
    "#### Questão 4"
   ]
  },
  {
   "cell_type": "code",
   "execution_count": 13,
   "metadata": {},
   "outputs": [
    {
     "data": {
      "text/plain": [
       "\u001b[36mamostras2\u001b[39m: \u001b[32mList\u001b[39m[\u001b[32mAmostraMinIngredientes\u001b[39m] = \u001b[33mList\u001b[39m(\n",
       "  \u001b[33mAmostraMinIngredientes\u001b[39m(\n",
       "    \u001b[32m\"AVphBRHOilAPnD_x0OrE\"\u001b[39m,\n",
       "    \u001b[33mArray\u001b[39m(\u001b[32m\"Dried Prunes\"\u001b[39m, \u001b[32m\"Water\"\u001b[39m, \u001b[32m\"Corn Syrup\"\u001b[39m, \u001b[32m\"Sugar\"\u001b[39m, \u001b[32m\"Pectin.\"\u001b[39m)\n",
       "  ),\n",
       "  \u001b[33mAmostraMinIngredientes\u001b[39m(\n",
       "    \u001b[32m\"AVpfNFy1LJeJML434ma2\"\u001b[39m,\n",
       "    \u001b[33mArray\u001b[39m(\n",
       "      \u001b[32m\"Salt\"\u001b[39m,\n",
       "      \u001b[32m\"Sugar\"\u001b[39m,\n",
       "      \u001b[32m\"Molasses (Refinery Syrup\"\u001b[39m,\n",
       "      \u001b[32m\" Molasses\"\u001b[39m,\n",
       "      \u001b[32m\" Caramel Color)\"\u001b[39m,\n",
       "      \u001b[32m\"Spices (Including Black Pepper)\"\u001b[39m,\n",
       "      \u001b[32m\"Garlic Onion\"\u001b[39m,\n",
       "      \u001b[32m\"Tapioca Maltodextrin\"\u001b[39m,\n",
       "      \u001b[32m\"Bacon Fat and Cooked Bacon (Cured with Water\"\u001b[39m,\n",
       "      \u001b[32m\" Salt\"\u001b[39m,\n",
       "      \u001b[32m\" Sodium Erythorbate\"\u001b[39m,\n",
       "      \u001b[32m\" Sodium Nitrate)\"\u001b[39m,\n",
       "      \u001b[32m\"Silicon Dioxide (To Make Free Flowing)\"\u001b[39m,\n",
       "      \u001b[32m\"Autolyzed Yeast\"\u001b[39m,\n",
       "      \u001b[32m\"Sunflower Oil\"\u001b[39m,\n",
       "      \u001b[32m\"Corn Maltodextrin\"\u001b[39m,\n",
       "      \u001b[32m\"Vinegar\"\u001b[39m,\n",
       "      \u001b[32m\"Extractives of Paprika\"\u001b[39m,\n",
       "      \u001b[32m\"and Natural Flavor (Including Smoke)\"\u001b[39m\n",
       "    )\n",
       "  ),\n",
       "  \u001b[33mAmostraMinIngredientes\u001b[39m(\n",
       "    \u001b[32m\"AVpgT49VLJeJML43MJEz\"\u001b[39m,\n",
       "    \u001b[33mArray\u001b[39m(\n",
       "      \u001b[32m\"Salt\"\u001b[39m,\n",
       "      \u001b[32m\" Yellow 5 Lake\"\u001b[39m,\n",
       "      \u001b[32m\" Tricalcium Phosphate And Artificial Butter Flavor\"\u001b[39m\n",
       "    )\n",
       "  ),\n",
       "  \u001b[33mAmostraMinIngredientes\u001b[39m(\n",
       "    \u001b[32m\"AVphYgnzLJeJML43aPp2\"\u001b[39m,\n",
       "..."
      ]
     },
     "execution_count": 13,
     "metadata": {},
     "output_type": "execute_result"
    }
   ],
   "source": [
    "val amostras2 = lines\n",
    "    //separando os valores por tabulação\n",
    "    .map(_.split(\"\\t\"))\n",
    "    //transformando as linhas em Amostras\n",
    "    .map(l => AmostraMinIngredientes(l.head, l(8).split(\",\")))\n",
    "    .toList"
   ]
  },
  {
   "cell_type": "code",
   "execution_count": 14,
   "metadata": {},
   "outputs": [
    {
     "data": {
      "text/plain": [
       "\u001b[36mingredientesCount\u001b[39m: \u001b[32mList\u001b[39m[\u001b[32mAmostraMinQtdIngredientes\u001b[39m] = \u001b[33mList\u001b[39m(\n",
       "  \u001b[33mAmostraMinQtdIngredientes\u001b[39m(\u001b[32m\"AVphBRHOilAPnD_x0OrE\"\u001b[39m, \u001b[32m5\u001b[39m),\n",
       "  \u001b[33mAmostraMinQtdIngredientes\u001b[39m(\u001b[32m\"AVpfNFy1LJeJML434ma2\"\u001b[39m, \u001b[32m19\u001b[39m),\n",
       "  \u001b[33mAmostraMinQtdIngredientes\u001b[39m(\u001b[32m\"AVpgT49VLJeJML43MJEz\"\u001b[39m, \u001b[32m3\u001b[39m),\n",
       "  \u001b[33mAmostraMinQtdIngredientes\u001b[39m(\u001b[32m\"AVphYgnzLJeJML43aPp2\"\u001b[39m, \u001b[32m6\u001b[39m),\n",
       "  \u001b[33mAmostraMinQtdIngredientes\u001b[39m(\u001b[32m\"AVpiS0bOLJeJML43kRsh\"\u001b[39m, \u001b[32m1\u001b[39m),\n",
       "  \u001b[33mAmostraMinQtdIngredientes\u001b[39m(\u001b[32m\"AVpfiMykilAPnD_xdedK\"\u001b[39m, \u001b[32m5\u001b[39m),\n",
       "  \u001b[33mAmostraMinQtdIngredientes\u001b[39m(\u001b[32m\"AVpgPmxs1cnluZ0-ypMt\"\u001b[39m, \u001b[32m32\u001b[39m),\n",
       "  \u001b[33mAmostraMinQtdIngredientes\u001b[39m(\u001b[32m\"AVphcTTBLJeJML43a9fO\"\u001b[39m, \u001b[32m9\u001b[39m),\n",
       "  \u001b[33mAmostraMinQtdIngredientes\u001b[39m(\u001b[32m\"AVpfwHjULJeJML43DEtY\"\u001b[39m, \u001b[32m16\u001b[39m),\n",
       "  \u001b[33mAmostraMinQtdIngredientes\u001b[39m(\u001b[32m\"AVphhxMQ1cnluZ0-Dif0\"\u001b[39m, \u001b[32m35\u001b[39m),\n",
       "  \u001b[33mAmostraMinQtdIngredientes\u001b[39m(\u001b[32m\"AVpfDWxvilAPnD_xT4tp\"\u001b[39m, \u001b[32m10\u001b[39m),\n",
       "  \u001b[33mAmostraMinQtdIngredientes\u001b[39m(\u001b[32m\"AVphKLCdilAPnD_x2BQN\"\u001b[39m, \u001b[32m10\u001b[39m),\n",
       "  \u001b[33mAmostraMinQtdIngredientes\u001b[39m(\u001b[32m\"AVpgFz7X1cnluZ0-wUaz\"\u001b[39m, \u001b[32m13\u001b[39m),\n",
       "  \u001b[33mAmostraMinQtdIngredientes\u001b[39m(\u001b[32m\"AVphO3fcilAPnD_x28B2\"\u001b[39m, \u001b[32m14\u001b[39m),\n",
       "  \u001b[33mAmostraMinQtdIngredientes\u001b[39m(\u001b[32m\"AVpgNvQjilAPnD_xpKsf\"\u001b[39m, \u001b[32m8\u001b[39m),\n",
       "  \u001b[33mAmostraMinQtdIngredientes\u001b[39m(\u001b[32m\"AVpgdOSALJeJML43OJcw\"\u001b[39m, \u001b[32m2\u001b[39m),\n",
       "  \u001b[33mAmostraMinQtdIngredientes\u001b[39m(\u001b[32m\"AVpe5hIz1cnluZ0-ZVZx\"\u001b[39m, \u001b[32m20\u001b[39m),\n",
       "  \u001b[33mAmostraMinQtdIngredientes\u001b[39m(\u001b[32m\"AVphYBTPLJeJML43aJwm\"\u001b[39m, \u001b[32m24\u001b[39m),\n",
       "  \u001b[33mAmostraMinQtdIngredientes\u001b[39m(\u001b[32m\"AVpfnWvJ1cnluZ0-oC8I\"\u001b[39m, \u001b[32m8\u001b[39m),\n",
       "  \u001b[33mAmostraMinQtdIngredientes\u001b[39m(\u001b[32m\"AVpi2uk2ilAPnD_xIIKs\"\u001b[39m, \u001b[32m40\u001b[39m),\n",
       "  \u001b[33mAmostraMinQtdIngredientes\u001b[39m(\u001b[32m\"AVpfmWllLJeJML43AM-4\"\u001b[39m, \u001b[32m1\u001b[39m),\n",
       "  \u001b[33mAmostraMinQtdIngredientes\u001b[39m(\u001b[32m\"AVpiUbKnLJeJML43khxs\"\u001b[39m, \u001b[32m18\u001b[39m),\n",
       "  \u001b[33mAmostraMinQtdIngredientes\u001b[39m(\u001b[32m\"AVpgBtk-LJeJML43Htl2\"\u001b[39m, \u001b[32m1\u001b[39m),\n",
       "  \u001b[33mAmostraMinQtdIngredientes\u001b[39m(\u001b[32m\"AVpgOvPvLJeJML43K38h\"\u001b[39m, \u001b[32m6\u001b[39m),\n",
       "  \u001b[33mAmostraMinQtdIngredientes\u001b[39m(\u001b[32m\"AVpf9hxh1cnluZ0-uLiC\"\u001b[39m, \u001b[32m4\u001b[39m),\n",
       "  \u001b[33mAmostraMinQtdIngredientes\u001b[39m(\u001b[32m\"AVpfNqVbilAPnD_xXV_6\"\u001b[39m, \u001b[32m18\u001b[39m),\n",
       "  \u001b[33mAmostraMinQtdIngredientes\u001b[39m(\u001b[32m\"AVpfX5KQilAPnD_xanq_\"\u001b[39m, \u001b[32m1\u001b[39m),\n",
       "  \u001b[33mAmostraMinQtdIngredientes\u001b[39m(\u001b[32m\"AVpjFN65ilAPnD_xKQ1i\"\u001b[39m, \u001b[32m9\u001b[39m),\n",
       "  \u001b[33mAmostraMinQtdIngredientes\u001b[39m(\u001b[32m\"AVph33VzilAPnD_x-SDC\"\u001b[39m, \u001b[32m3\u001b[39m),\n",
       "  \u001b[33mAmostraMinQtdIngredientes\u001b[39m(\u001b[32m\"AVpgwv5WilAPnD_xw_ye\"\u001b[39m, \u001b[32m11\u001b[39m),\n",
       "  \u001b[33mAmostraMinQtdIngredientes\u001b[39m(\u001b[32m\"AVpfEnoOLJeJML431xEE\"\u001b[39m, \u001b[32m3\u001b[39m),\n",
       "  \u001b[33mAmostraMinQtdIngredientes\u001b[39m(\u001b[32m\"AVpfkkMcilAPnD_xeNMt\"\u001b[39m, \u001b[32m7\u001b[39m),\n",
       "  \u001b[33mAmostraMinQtdIngredientes\u001b[39m(\u001b[32m\"AVpfzpTZLJeJML43EF2A\"\u001b[39m, \u001b[32m11\u001b[39m),\n",
       "  \u001b[33mAmostraMinQtdIngredientes\u001b[39m(\u001b[32m\"AVpgElUIilAPnD_xm_uI\"\u001b[39m, \u001b[32m2\u001b[39m),\n",
       "  \u001b[33mAmostraMinQtdIngredientes\u001b[39m(\u001b[32m\"AVpgGxGGilAPnD_xnieK\"\u001b[39m, \u001b[32m7\u001b[39m),\n",
       "  \u001b[33mAmostraMinQtdIngredientes\u001b[39m(\u001b[32m\"AVphPbUbilAPnD_x3C35\"\u001b[39m, \u001b[32m14\u001b[39m),\n",
       "  \u001b[33mAmostraMinQtdIngredientes\u001b[39m(\u001b[32m\"AVpfPEvEilAPnD_xXz6W\"\u001b[39m, \u001b[32m12\u001b[39m),\n",
       "  \u001b[33mAmostraMinQtdIngredientes\u001b[39m(\u001b[32m\"AVpfJqySilAPnD_xWCX9\"\u001b[39m, \u001b[32m12\u001b[39m),\n",
       "..."
      ]
     },
     "execution_count": 14,
     "metadata": {},
     "output_type": "execute_result"
    }
   ],
   "source": [
    "val ingredientesCount = amostras2.map(l => AmostraMinQtdIngredientes(l.id,l.ingredients.length))"
   ]
  },
  {
   "cell_type": "code",
   "execution_count": 15,
   "metadata": {},
   "outputs": [
    {
     "data": {
      "text/plain": [
       "\u001b[36mingredientes\u001b[39m: \u001b[32mList\u001b[39m[\u001b[32mArray\u001b[39m[\u001b[32mString\u001b[39m]] = \u001b[33mList\u001b[39m(\n",
       "  \u001b[33mArray\u001b[39m(\u001b[32m\"Dried Prunes\"\u001b[39m, \u001b[32m\"Water\"\u001b[39m, \u001b[32m\"Corn Syrup\"\u001b[39m, \u001b[32m\"Sugar\"\u001b[39m, \u001b[32m\"Pectin.\"\u001b[39m),\n",
       "  \u001b[33mArray\u001b[39m(\n",
       "    \u001b[32m\"Salt\"\u001b[39m,\n",
       "    \u001b[32m\"Sugar\"\u001b[39m,\n",
       "    \u001b[32m\"Molasses (Refinery Syrup\"\u001b[39m,\n",
       "    \u001b[32m\" Molasses\"\u001b[39m,\n",
       "    \u001b[32m\" Caramel Color)\"\u001b[39m,\n",
       "    \u001b[32m\"Spices (Including Black Pepper)\"\u001b[39m,\n",
       "    \u001b[32m\"Garlic Onion\"\u001b[39m,\n",
       "    \u001b[32m\"Tapioca Maltodextrin\"\u001b[39m,\n",
       "    \u001b[32m\"Bacon Fat and Cooked Bacon (Cured with Water\"\u001b[39m,\n",
       "    \u001b[32m\" Salt\"\u001b[39m,\n",
       "    \u001b[32m\" Sodium Erythorbate\"\u001b[39m,\n",
       "    \u001b[32m\" Sodium Nitrate)\"\u001b[39m,\n",
       "    \u001b[32m\"Silicon Dioxide (To Make Free Flowing)\"\u001b[39m,\n",
       "    \u001b[32m\"Autolyzed Yeast\"\u001b[39m,\n",
       "    \u001b[32m\"Sunflower Oil\"\u001b[39m,\n",
       "    \u001b[32m\"Corn Maltodextrin\"\u001b[39m,\n",
       "    \u001b[32m\"Vinegar\"\u001b[39m,\n",
       "    \u001b[32m\"Extractives of Paprika\"\u001b[39m,\n",
       "    \u001b[32m\"and Natural Flavor (Including Smoke)\"\u001b[39m\n",
       "  ),\n",
       "  \u001b[33mArray\u001b[39m(\n",
       "    \u001b[32m\"Salt\"\u001b[39m,\n",
       "    \u001b[32m\" Yellow 5 Lake\"\u001b[39m,\n",
       "    \u001b[32m\" Tricalcium Phosphate And Artificial Butter Flavor\"\u001b[39m\n",
       "  ),\n",
       "  \u001b[33mArray\u001b[39m(\n",
       "    \u001b[32m\"Mechanically hulled seasame seeds.Allergy Information: Packed in a facility that processes wheat\"\u001b[39m,\n",
       "    \u001b[32m\" flour\"\u001b[39m,\n",
       "    \u001b[32m\" peanuts and tree nuts.\"\u001b[39m,\n",
       "    \u001b[32m\"Mechanically hulled seasame seeds.Allergy Information: Packed in a facility that processes wheat\"\u001b[39m,\n",
       "    \u001b[32m\"flour\"\u001b[39m,\n",
       "    \u001b[32m\"peanuts and tree nuts.\"\u001b[39m\n",
       "  ),\n",
       "  \u001b[33mArray\u001b[39m(\u001b[32m\"FALSE\"\u001b[39m),\n",
       "..."
      ]
     },
     "execution_count": 15,
     "metadata": {},
     "output_type": "execute_result"
    }
   ],
   "source": [
    "val ingredientes = amostras2.map(l => l.ingredients)"
   ]
  },
  {
   "cell_type": "code",
   "execution_count": 16,
   "metadata": {},
   "outputs": [
    {
     "data": {
      "text/plain": [
       "\u001b[36mingredientesList\u001b[39m: \u001b[32mArray\u001b[39m[\u001b[32mString\u001b[39m] = \u001b[33mArray\u001b[39m(\n",
       "  \u001b[32m\"Dried Prunes\"\u001b[39m,\n",
       "  \u001b[32m\"Water\"\u001b[39m,\n",
       "  \u001b[32m\"Corn Syrup\"\u001b[39m,\n",
       "  \u001b[32m\"Sugar\"\u001b[39m,\n",
       "  \u001b[32m\"Pectin.\"\u001b[39m,\n",
       "  \u001b[32m\"Salt\"\u001b[39m,\n",
       "  \u001b[32m\"Sugar\"\u001b[39m,\n",
       "  \u001b[32m\"Molasses (Refinery Syrup\"\u001b[39m,\n",
       "  \u001b[32m\" Molasses\"\u001b[39m,\n",
       "  \u001b[32m\" Caramel Color)\"\u001b[39m,\n",
       "  \u001b[32m\"Spices (Including Black Pepper)\"\u001b[39m,\n",
       "  \u001b[32m\"Garlic Onion\"\u001b[39m,\n",
       "  \u001b[32m\"Tapioca Maltodextrin\"\u001b[39m,\n",
       "  \u001b[32m\"Bacon Fat and Cooked Bacon (Cured with Water\"\u001b[39m,\n",
       "  \u001b[32m\" Salt\"\u001b[39m,\n",
       "  \u001b[32m\" Sodium Erythorbate\"\u001b[39m,\n",
       "  \u001b[32m\" Sodium Nitrate)\"\u001b[39m,\n",
       "  \u001b[32m\"Silicon Dioxide (To Make Free Flowing)\"\u001b[39m,\n",
       "  \u001b[32m\"Autolyzed Yeast\"\u001b[39m,\n",
       "  \u001b[32m\"Sunflower Oil\"\u001b[39m,\n",
       "  \u001b[32m\"Corn Maltodextrin\"\u001b[39m,\n",
       "  \u001b[32m\"Vinegar\"\u001b[39m,\n",
       "  \u001b[32m\"Extractives of Paprika\"\u001b[39m,\n",
       "  \u001b[32m\"and Natural Flavor (Including Smoke)\"\u001b[39m,\n",
       "  \u001b[32m\"Salt\"\u001b[39m,\n",
       "  \u001b[32m\" Yellow 5 Lake\"\u001b[39m,\n",
       "  \u001b[32m\" Tricalcium Phosphate And Artificial Butter Flavor\"\u001b[39m,\n",
       "  \u001b[32m\"Mechanically hulled seasame seeds.Allergy Information: Packed in a facility that processes wheat\"\u001b[39m,\n",
       "  \u001b[32m\" flour\"\u001b[39m,\n",
       "  \u001b[32m\" peanuts and tree nuts.\"\u001b[39m,\n",
       "  \u001b[32m\"Mechanically hulled seasame seeds.Allergy Information: Packed in a facility that processes wheat\"\u001b[39m,\n",
       "  \u001b[32m\"flour\"\u001b[39m,\n",
       "  \u001b[32m\"peanuts and tree nuts.\"\u001b[39m,\n",
       "  \u001b[32m\"FALSE\"\u001b[39m,\n",
       "  \u001b[32m\"Red Raspberries\"\u001b[39m,\n",
       "  \u001b[32m\"Sugar\"\u001b[39m,\n",
       "..."
      ]
     },
     "execution_count": 16,
     "metadata": {},
     "output_type": "execute_result"
    }
   ],
   "source": [
    "val ingredientesList = ingredientes.reduce(_ ++ _)"
   ]
  },
  {
   "cell_type": "code",
   "execution_count": 17,
   "metadata": {},
   "outputs": [
    {
     "data": {
      "text/plain": [
       "\u001b[36mingredientesTotCount\u001b[39m: \u001b[32mMap\u001b[39m[\u001b[32mString\u001b[39m, \u001b[32mInt\u001b[39m] = \u001b[33mMap\u001b[39m(\n",
       "  \u001b[32m\"Toasted Bread Crumbs {Enriched Flour (Wheat Flour\"\u001b[39m -> \u001b[32m1\u001b[39m,\n",
       "  \u001b[32m\"Artificial Butter Flavor\"\u001b[39m -> \u001b[32m3\u001b[39m,\n",
       "  \u001b[32m\". Contains 2 or Less of: Modified Corn Starch\"\u001b[39m -> \u001b[32m1\u001b[39m,\n",
       "  \u001b[32m\"Niacin(Niacinamide)\"\u001b[39m -> \u001b[32m2\u001b[39m,\n",
       "  \u001b[32m\" Filberts\"\u001b[39m -> \u001b[32m7\u001b[39m,\n",
       "  \u001b[32m\" Portabella Mushrooms\"\u001b[39m -> \u001b[32m1\u001b[39m,\n",
       "  \u001b[32m\"Reconstituted Vegetable Juice Blend (Water and Concentrated Juice of [Sweet Potatoes\"\u001b[39m -> \u001b[32m1\u001b[39m,\n",
       "  \u001b[32m\"Less Than 2 Silicon Dioxide To Prevent Caking.\"\u001b[39m -> \u001b[32m1\u001b[39m,\n",
       "  \u001b[32m\"Barley Malt Flavouring\"\u001b[39m -> \u001b[32m4\u001b[39m,\n",
       "  \u001b[32m\"Sorbitol Syrup\"\u001b[39m -> \u001b[32m2\u001b[39m,\n",
       "  \u001b[32m\" organic German chamomile flower.\"\u001b[39m -> \u001b[32m1\u001b[39m,\n",
       "  \u001b[32m\" Partially Hydrogenated Palm Oil\"\u001b[39m -> \u001b[32m1\u001b[39m,\n",
       "  \u001b[32m\"Barley Malt Syrup. Freshness Preserved by BHT.\"\u001b[39m -> \u001b[32m4\u001b[39m,\n",
       "  \u001b[32m\"Sea Salt and Citric Acid.\"\u001b[39m -> \u001b[32m1\u001b[39m,\n",
       "  \u001b[32m\" Coloring (Includes Blue 1 Lake\"\u001b[39m -> \u001b[32m3\u001b[39m,\n",
       "  \u001b[32m\"and Apple Flower. Lemon Ginger: Ginger Root\"\u001b[39m -> \u001b[32m1\u001b[39m,\n",
       "  \u001b[32m\" tomato paste\"\u001b[39m -> \u001b[32m2\u001b[39m,\n",
       "  \u001b[32m\"Cheddar Cheese Powder (Made from Pasteurized Milk\"\u001b[39m -> \u001b[32m1\u001b[39m,\n",
       "  \u001b[32m\" Anise Oil\"\u001b[39m -> \u001b[32m1\u001b[39m,\n",
       "  \u001b[32m\"Mannitol; less than 2% of: Acesulfame Potassium\"\u001b[39m -> \u001b[32m1\u001b[39m,\n",
       "  \u001b[32m\"strawberry essence\"\u001b[39m -> \u001b[32m1\u001b[39m,\n",
       "  \u001b[32m\"White cabbage\"\u001b[39m -> \u001b[32m1\u001b[39m,\n",
       "  \u001b[32m\"[Thiamin Mononitrate]\"\u001b[39m -> \u001b[32m1\u001b[39m,\n",
       "  \u001b[32m\"Citric Acid and Ascorbic Acid (Vitamin C).\"\u001b[39m -> \u001b[32m1\u001b[39m,\n",
       "  \u001b[32m\"Arabica coffee\"\u001b[39m -> \u001b[32m5\u001b[39m,\n",
       "  \u001b[32m\"Canola Oil (Preserved with Mixed Tocopherols)\"\u001b[39m -> \u001b[32m1\u001b[39m,\n",
       "  \u001b[32m\"NATURAL COLORS\"\u001b[39m -> \u001b[32m1\u001b[39m,\n",
       "  \u001b[32m\"Dehydrated Eterococcus Faecium Fermentation Product.\"\u001b[39m -> \u001b[32m1\u001b[39m,\n",
       "  \u001b[32m\" leek*\"\u001b[39m -> \u001b[32m1\u001b[39m,\n",
       "  \u001b[32m\" red bell peppers and mushrooms)\"\u001b[39m -> \u001b[32m1\u001b[39m,\n",
       "  \u001b[32m\"REDUCED MINERALS WHEY (MILK)\"\u001b[39m -> \u001b[32m2\u001b[39m,\n",
       "  \u001b[32m\" Evaporated Cane Juice Crystals\"\u001b[39m -> \u001b[32m2\u001b[39m,\n",
       "  \u001b[32m\"White Wine (2)\"\u001b[39m -> \u001b[32m1\u001b[39m,\n",
       "  \u001b[32m\"And Soy Lecithin Added As An Emulsifier)\"\u001b[39m -> \u001b[32m1\u001b[39m,\n",
       "  \u001b[32m\" Maltitol; contains less than 2 percent of: Gum Arabic\"\u001b[39m -> \u001b[32m1\u001b[39m,\n",
       "  \u001b[32m\"Dextrose; Contains 2% or less of: Soy Lecithin\"\u001b[39m -> \u001b[32m1\u001b[39m,\n",
       "  \u001b[32m\"Low sodium; Magnesium and calcium\"\u001b[39m -> \u001b[32m1\u001b[39m,\n",
       "..."
      ]
     },
     "execution_count": 17,
     "metadata": {},
     "output_type": "execute_result"
    }
   ],
   "source": [
    "val ingredientesTotCount = ingredientesList.filter(m => m != \"\").groupBy(identity).mapValues(_.size)"
   ]
  },
  {
   "cell_type": "code",
   "execution_count": 18,
   "metadata": {},
   "outputs": [
    {
     "data": {
      "text/plain": [
       "\u001b[36mingredientesCountSortedDesc\u001b[39m: \u001b[32mSeq\u001b[39m[(\u001b[32mString\u001b[39m, \u001b[32mInt\u001b[39m)] = \u001b[33mVector\u001b[39m(\n",
       "  (\u001b[32m\"Sugar\"\u001b[39m, \u001b[32m2896\u001b[39m),\n",
       "  (\u001b[32m\"Salt\"\u001b[39m, \u001b[32m2882\u001b[39m),\n",
       "  (\u001b[32m\"Water\"\u001b[39m, \u001b[32m1834\u001b[39m),\n",
       "  (\u001b[32m\"Citric Acid\"\u001b[39m, \u001b[32m1280\u001b[39m),\n",
       "  (\u001b[32m\" Salt\"\u001b[39m, \u001b[32m1116\u001b[39m),\n",
       "  (\u001b[32m\"Corn Syrup\"\u001b[39m, \u001b[32m860\u001b[39m),\n",
       "  (\u001b[32m\".\"\u001b[39m, \u001b[32m737\u001b[39m),\n",
       "  (\u001b[32m\"Dextrose\"\u001b[39m, \u001b[32m701\u001b[39m),\n",
       "  (\u001b[32m\"Soy Lecithin\"\u001b[39m, \u001b[32m694\u001b[39m),\n",
       "  (\u001b[32m\"Niacin\"\u001b[39m, \u001b[32m675\u001b[39m),\n",
       "  (\u001b[32m\" Sugar\"\u001b[39m, \u001b[32m614\u001b[39m),\n",
       "  (\u001b[32m\"Natural Flavor\"\u001b[39m, \u001b[32m607\u001b[39m),\n",
       "  (\u001b[32m\"High Fructose Corn Syrup\"\u001b[39m, \u001b[32m598\u001b[39m),\n",
       "  (\u001b[32m\" Niacin\"\u001b[39m, \u001b[32m594\u001b[39m),\n",
       "  (\u001b[32m\"Natural Flavors\"\u001b[39m, \u001b[32m584\u001b[39m),\n",
       "  (\u001b[32m\"Maltodextrin\"\u001b[39m, \u001b[32m501\u001b[39m),\n",
       "  (\u001b[32m\" Folic Acid)\"\u001b[39m, \u001b[32m482\u001b[39m),\n",
       "  (\u001b[32m\"Soybean Oil\"\u001b[39m, \u001b[32m462\u001b[39m),\n",
       "  (\u001b[32m\"Spices\"\u001b[39m, \u001b[32m461\u001b[39m),\n",
       "  (\u001b[32m\"Riboflavin\"\u001b[39m, \u001b[32m432\u001b[39m),\n",
       "  (\u001b[32m\" Reduced Iron\"\u001b[39m, \u001b[32m426\u001b[39m),\n",
       "  (\u001b[32m\"Reduced Iron\"\u001b[39m, \u001b[32m426\u001b[39m),\n",
       "  (\u001b[32m\"Xanthan Gum\"\u001b[39m, \u001b[32m411\u001b[39m),\n",
       "  (\u001b[32m\"Caramel Color\"\u001b[39m, \u001b[32m406\u001b[39m),\n",
       "  (\u001b[32m\"Folic Acid)\"\u001b[39m, \u001b[32m398\u001b[39m),\n",
       "  (\u001b[32m\" Riboflavin\"\u001b[39m, \u001b[32m371\u001b[39m),\n",
       "  (\u001b[32m\"Wheat Flour\"\u001b[39m, \u001b[32m365\u001b[39m),\n",
       "  (\u001b[32m\" Cocoa Butter\"\u001b[39m, \u001b[32m356\u001b[39m),\n",
       "  (\u001b[32m\"Sea Salt\"\u001b[39m, \u001b[32m353\u001b[39m),\n",
       "  (\u001b[32m\"Sodium Citrate\"\u001b[39m, \u001b[32m348\u001b[39m),\n",
       "  (\u001b[32m\" Soy Lecithin\"\u001b[39m, \u001b[32m345\u001b[39m),\n",
       "  (\u001b[32m\"Corn Starch\"\u001b[39m, \u001b[32m335\u001b[39m),\n",
       "  (\u001b[32m\"Yeast\"\u001b[39m, \u001b[32m322\u001b[39m),\n",
       "  (\u001b[32m\"Palm Oil\"\u001b[39m, \u001b[32m314\u001b[39m),\n",
       "  (\u001b[32m\"Modified Corn Starch\"\u001b[39m, \u001b[32m305\u001b[39m),\n",
       "  (\u001b[32m\"Carbonated Water\"\u001b[39m, \u001b[32m287\u001b[39m),\n",
       "  (\u001b[32m\"Whey\"\u001b[39m, \u001b[32m286\u001b[39m),\n",
       "  (\u001b[32m\"Thiamine Mononitrate\"\u001b[39m, \u001b[32m268\u001b[39m),\n",
       "...\n",
       "\u001b[36mingredientesCountSortedAsc\u001b[39m: \u001b[32mSeq\u001b[39m[(\u001b[32mString\u001b[39m, \u001b[32mInt\u001b[39m)] = \u001b[33mVector\u001b[39m(\n",
       "  (\u001b[32m\"Toasted Bread Crumbs {Enriched Flour (Wheat Flour\"\u001b[39m, \u001b[32m1\u001b[39m),\n",
       "  (\u001b[32m\". Contains 2 or Less of: Modified Corn Starch\"\u001b[39m, \u001b[32m1\u001b[39m),\n",
       "  (\u001b[32m\" Portabella Mushrooms\"\u001b[39m, \u001b[32m1\u001b[39m),\n",
       "  (\n",
       "    \u001b[32m\"Reconstituted Vegetable Juice Blend (Water and Concentrated Juice of [Sweet Potatoes\"\u001b[39m,\n",
       "    \u001b[32m1\u001b[39m\n",
       "  ),\n",
       "  (\u001b[32m\"Less Than 2 Silicon Dioxide To Prevent Caking.\"\u001b[39m, \u001b[32m1\u001b[39m),\n",
       "  (\u001b[32m\" organic German chamomile flower.\"\u001b[39m, \u001b[32m1\u001b[39m),\n",
       "  (\u001b[32m\" Partially Hydrogenated Palm Oil\"\u001b[39m, \u001b[32m1\u001b[39m),\n",
       "  (\u001b[32m\"Sea Salt and Citric Acid.\"\u001b[39m, \u001b[32m1\u001b[39m),\n",
       "  (\u001b[32m\"and Apple Flower. Lemon Ginger: Ginger Root\"\u001b[39m, \u001b[32m1\u001b[39m),\n",
       "  (\u001b[32m\"Cheddar Cheese Powder (Made from Pasteurized Milk\"\u001b[39m, \u001b[32m1\u001b[39m),\n",
       "  (\u001b[32m\" Anise Oil\"\u001b[39m, \u001b[32m1\u001b[39m),\n",
       "  (\u001b[32m\"Mannitol; less than 2% of: Acesulfame Potassium\"\u001b[39m, \u001b[32m1\u001b[39m),\n",
       "  (\u001b[32m\"strawberry essence\"\u001b[39m, \u001b[32m1\u001b[39m),\n",
       "  (\u001b[32m\"White cabbage\"\u001b[39m, \u001b[32m1\u001b[39m),\n",
       "  (\u001b[32m\"[Thiamin Mononitrate]\"\u001b[39m, \u001b[32m1\u001b[39m),\n",
       "  (\u001b[32m\"Citric Acid and Ascorbic Acid (Vitamin C).\"\u001b[39m, \u001b[32m1\u001b[39m),\n",
       "  (\u001b[32m\"Canola Oil (Preserved with Mixed Tocopherols)\"\u001b[39m, \u001b[32m1\u001b[39m),\n",
       "  (\u001b[32m\"NATURAL COLORS\"\u001b[39m, \u001b[32m1\u001b[39m),\n",
       "  (\u001b[32m\"Dehydrated Eterococcus Faecium Fermentation Product.\"\u001b[39m, \u001b[32m1\u001b[39m),\n",
       "  (\u001b[32m\" leek*\"\u001b[39m, \u001b[32m1\u001b[39m),\n",
       "  (\u001b[32m\" red bell peppers and mushrooms)\"\u001b[39m, \u001b[32m1\u001b[39m),\n",
       "  (\u001b[32m\"White Wine (2)\"\u001b[39m, \u001b[32m1\u001b[39m),\n",
       "  (\u001b[32m\"And Soy Lecithin Added As An Emulsifier)\"\u001b[39m, \u001b[32m1\u001b[39m),\n",
       "  (\u001b[32m\" Maltitol; contains less than 2 percent of: Gum Arabic\"\u001b[39m, \u001b[32m1\u001b[39m),\n",
       "  (\u001b[32m\"Dextrose; Contains 2% or less of: Soy Lecithin\"\u001b[39m, \u001b[32m1\u001b[39m),\n",
       "  (\u001b[32m\"Low sodium; Magnesium and calcium\"\u001b[39m, \u001b[32m1\u001b[39m),\n",
       "  (\u001b[32m\"Naturally Fermented Soy Sauce (Soybean\"\u001b[39m, \u001b[32m1\u001b[39m),\n",
       "  (\u001b[32m\" Rosemary Extract. Gingerbread Spice: Brown Pure Cane Sugar\"\u001b[39m, \u001b[32m1\u001b[39m),\n",
       "  (\u001b[32m\"BHT (TO ENSURE FRESHNESS)\"\u001b[39m, \u001b[32m1\u001b[39m),\n",
       "  (\u001b[32m\"Cilantro Flavor (Modified Corn Starch\"\u001b[39m, \u001b[32m1\u001b[39m),\n",
       "  (\u001b[32m\" Hemp Seeds\"\u001b[39m, \u001b[32m1\u001b[39m),\n",
       "  (\u001b[32m\"Contains 2 or Less of Cream (Milk)\"\u001b[39m, \u001b[32m1\u001b[39m),\n",
       "  (\u001b[32m\"TBHQ and Citric Acid added to preserve freshness.\"\u001b[39m, \u001b[32m1\u001b[39m),\n",
       "  (\u001b[32m\"Enriched wheat flour (wheat flour [unbleached]\"\u001b[39m, \u001b[32m1\u001b[39m),\n",
       "...\n",
       "\u001b[36mmostCommonIngredientes\u001b[39m: \u001b[32mSeq\u001b[39m[(\u001b[32mString\u001b[39m, \u001b[32mInt\u001b[39m)] = \u001b[33mVector\u001b[39m(\n",
       "  (\u001b[32m\"Sugar\"\u001b[39m, \u001b[32m2896\u001b[39m),\n",
       "  (\u001b[32m\"Salt\"\u001b[39m, \u001b[32m2882\u001b[39m),\n",
       "  (\u001b[32m\"Water\"\u001b[39m, \u001b[32m1834\u001b[39m),\n",
       "  (\u001b[32m\"Citric Acid\"\u001b[39m, \u001b[32m1280\u001b[39m),\n",
       "  (\u001b[32m\" Salt\"\u001b[39m, \u001b[32m1116\u001b[39m)\n",
       ")\n",
       "\u001b[36mfewCommonIngredientes\u001b[39m: \u001b[32mSeq\u001b[39m[(\u001b[32mString\u001b[39m, \u001b[32mInt\u001b[39m)] = \u001b[33mVector\u001b[39m(\n",
       "  (\u001b[32m\"Toasted Bread Crumbs {Enriched Flour (Wheat Flour\"\u001b[39m, \u001b[32m1\u001b[39m),\n",
       "  (\u001b[32m\". Contains 2 or Less of: Modified Corn Starch\"\u001b[39m, \u001b[32m1\u001b[39m),\n",
       "  (\u001b[32m\" Portabella Mushrooms\"\u001b[39m, \u001b[32m1\u001b[39m),\n",
       "  (\n",
       "    \u001b[32m\"Reconstituted Vegetable Juice Blend (Water and Concentrated Juice of [Sweet Potatoes\"\u001b[39m,\n",
       "    \u001b[32m1\u001b[39m\n",
       "  ),\n",
       "  (\u001b[32m\"Less Than 2 Silicon Dioxide To Prevent Caking.\"\u001b[39m, \u001b[32m1\u001b[39m)\n",
       ")"
      ]
     },
     "execution_count": 18,
     "metadata": {},
     "output_type": "execute_result"
    }
   ],
   "source": [
    "val ingredientesCountSortedDesc = ingredientesTotCount.toSeq.sortWith(_._2 > _._2)\n",
    "val ingredientesCountSortedAsc = ingredientesTotCount.toSeq.sortWith(_._2 < _._2)\n",
    "val mostCommonIngredientes = ingredientesCountSortedDesc.take(5)\n",
    "val fewCommonIngredientes = ingredientesCountSortedAsc.take(5)"
   ]
  },
  {
   "cell_type": "markdown",
   "metadata": {},
   "source": [
    "#### Questão 5"
   ]
  },
  {
   "cell_type": "code",
   "execution_count": 19,
   "metadata": {},
   "outputs": [
    {
     "data": {
      "text/plain": [
       "\u001b[36mingredientesMean\u001b[39m: \u001b[32mDouble\u001b[39m = \u001b[32m3.7974334244226546\u001b[39m"
      ]
     },
     "execution_count": 19,
     "metadata": {},
     "output_type": "execute_result"
    }
   ],
   "source": [
    "val ingredientesMean = mean(ingredientesTotCount.values.toList)"
   ]
  },
  {
   "cell_type": "code",
   "execution_count": 20,
   "metadata": {},
   "outputs": [
    {
     "data": {
      "text/plain": [
       "\u001b[36mingredientesStddev\u001b[39m: \u001b[32mDouble\u001b[39m = \u001b[32m30.94489703614991\u001b[39m"
      ]
     },
     "execution_count": 20,
     "metadata": {},
     "output_type": "execute_result"
    }
   ],
   "source": [
    "val ingredientesStddev = stdDev(ingredientesTotCount.values.toList)"
   ]
  },
  {
   "cell_type": "markdown",
   "metadata": {},
   "source": [
    "#### Questão 6"
   ]
  },
  {
   "cell_type": "code",
   "execution_count": 21,
   "metadata": {},
   "outputs": [
    {
     "data": {
      "text/plain": [
       "\u001b[36mamostras4\u001b[39m: \u001b[32mList\u001b[39m[\u001b[32mAmostraMinMarcaIngredientes\u001b[39m] = \u001b[33mList\u001b[39m(\n",
       "  \u001b[33mAmostraMinMarcaIngredientes\u001b[39m(\n",
       "    \u001b[32m\"AVphBRHOilAPnD_x0OrE\"\u001b[39m,\n",
       "    \u001b[32m\"Simon Fischer\"\u001b[39m,\n",
       "    \u001b[33mArray\u001b[39m(\u001b[32m\"Dried Prunes\"\u001b[39m, \u001b[32m\"Water\"\u001b[39m, \u001b[32m\"Corn Syrup\"\u001b[39m, \u001b[32m\"Sugar\"\u001b[39m, \u001b[32m\"Pectin.\"\u001b[39m)\n",
       "  ),\n",
       "  \u001b[33mAmostraMinMarcaIngredientes\u001b[39m(\n",
       "    \u001b[32m\"AVpfNFy1LJeJML434ma2\"\u001b[39m,\n",
       "    \u001b[32m\"McCormick\"\u001b[39m,\n",
       "    \u001b[33mArray\u001b[39m(\n",
       "      \u001b[32m\"Salt\"\u001b[39m,\n",
       "      \u001b[32m\"Sugar\"\u001b[39m,\n",
       "      \u001b[32m\"Molasses (Refinery Syrup\"\u001b[39m,\n",
       "      \u001b[32m\" Molasses\"\u001b[39m,\n",
       "      \u001b[32m\" Caramel Color)\"\u001b[39m,\n",
       "      \u001b[32m\"Spices (Including Black Pepper)\"\u001b[39m,\n",
       "      \u001b[32m\"Garlic Onion\"\u001b[39m,\n",
       "      \u001b[32m\"Tapioca Maltodextrin\"\u001b[39m,\n",
       "      \u001b[32m\"Bacon Fat and Cooked Bacon (Cured with Water\"\u001b[39m,\n",
       "      \u001b[32m\" Salt\"\u001b[39m,\n",
       "      \u001b[32m\" Sodium Erythorbate\"\u001b[39m,\n",
       "      \u001b[32m\" Sodium Nitrate)\"\u001b[39m,\n",
       "      \u001b[32m\"Silicon Dioxide (To Make Free Flowing)\"\u001b[39m,\n",
       "      \u001b[32m\"Autolyzed Yeast\"\u001b[39m,\n",
       "      \u001b[32m\"Sunflower Oil\"\u001b[39m,\n",
       "      \u001b[32m\"Corn Maltodextrin\"\u001b[39m,\n",
       "      \u001b[32m\"Vinegar\"\u001b[39m,\n",
       "      \u001b[32m\"Extractives of Paprika\"\u001b[39m,\n",
       "      \u001b[32m\"and Natural Flavor (Including Smoke)\"\u001b[39m\n",
       "    )\n",
       "  ),\n",
       "  \u001b[33mAmostraMinMarcaIngredientes\u001b[39m(\n",
       "    \u001b[32m\"AVpgT49VLJeJML43MJEz\"\u001b[39m,\n",
       "    \u001b[32m\"Jolly Time\"\u001b[39m,\n",
       "    \u001b[33mArray\u001b[39m(\n",
       "      \u001b[32m\"Salt\"\u001b[39m,\n",
       "      \u001b[32m\" Yellow 5 Lake\"\u001b[39m,\n",
       "      \u001b[32m\" Tricalcium Phosphate And Artificial Butter Flavor\"\u001b[39m\n",
       "    )\n",
       "..."
      ]
     },
     "execution_count": 21,
     "metadata": {},
     "output_type": "execute_result"
    }
   ],
   "source": [
    "lines = Source.fromFile(\"ingredients.tsv\").getLines.drop(1)\n",
    "val amostras4 = lines\n",
    "    //separando os valores por tabulação\n",
    "    .map(_.split(\"\\t\"))\n",
    "    //transformando as linhas em Amostras\n",
    "    .map(l => AmostraMinMarcaIngredientes(l.head, l(2),l(8).split(\",\")))\n",
    "    .toList"
   ]
  },
  {
   "cell_type": "code",
   "execution_count": 22,
   "metadata": {},
   "outputs": [
    {
     "data": {
      "text/plain": [
       "\u001b[36mmarcasIngredientes\u001b[39m: \u001b[32mMap\u001b[39m[\u001b[32mString\u001b[39m, \u001b[32mSeq\u001b[39m[(\u001b[32mString\u001b[39m, \u001b[32mInt\u001b[39m)]] = \u001b[33mMap\u001b[39m(\n",
       "  \u001b[32m\"ChocZero\"\u001b[39m -> \u001b[33mVector\u001b[39m(\n",
       "    (\u001b[32m\" Cocoa Butter)\"\u001b[39m, \u001b[32m11\u001b[39m),\n",
       "    (\u001b[32m\"Dark Chocolate (Unsweetened Chocolate\"\u001b[39m, \u001b[32m9\u001b[39m),\n",
       "    (\u001b[32m\" Soluble Corn Fiber\"\u001b[39m, \u001b[32m7\u001b[39m),\n",
       "    (\u001b[32m\"Sunflower Lecithin\"\u001b[39m, \u001b[32m7\u001b[39m),\n",
       "    (\u001b[32m\"Monk Fruit Extract\"\u001b[39m, \u001b[32m7\u001b[39m),\n",
       "    (\u001b[32m\" Sunflower Lecithin\"\u001b[39m, \u001b[32m7\u001b[39m),\n",
       "    (\u001b[32m\"Soluble Corn Fiber\"\u001b[39m, \u001b[32m7\u001b[39m),\n",
       "    (\u001b[32m\" Monk Fruit Extract\"\u001b[39m, \u001b[32m7\u001b[39m),\n",
       "    (\u001b[32m\"wheat\"\u001b[39m, \u001b[32m6\u001b[39m),\n",
       "    (\u001b[32m\"Madagascar Bourbon Vanilla Beans. May contain milk\"\u001b[39m, \u001b[32m5\u001b[39m),\n",
       "    (\u001b[32m\" Madagascar Bourbon Vanilla Beans. May contain milk\"\u001b[39m, \u001b[32m5\u001b[39m),\n",
       "    (\u001b[32m\" wheat\"\u001b[39m, \u001b[32m5\u001b[39m),\n",
       "    (\u001b[32m\" Cocoa Butter\"\u001b[39m, \u001b[32m4\u001b[39m),\n",
       "    (\u001b[32m\"soy and nuts.\"\u001b[39m, \u001b[32m4\u001b[39m),\n",
       "    (\u001b[32m\" soy and nuts.\"\u001b[39m, \u001b[32m4\u001b[39m),\n",
       "    (\u001b[32m\"soy and nuts\"\u001b[39m, \u001b[32m3\u001b[39m),\n",
       "    (\u001b[32m\" Unsweetened Chocolate)\"\u001b[39m, \u001b[32m3\u001b[39m),\n",
       "    (\u001b[32m\" soy and nuts\"\u001b[39m, \u001b[32m2\u001b[39m),\n",
       "    (\u001b[32m\"For 70% and 50% Dark Chocolate: Dark Chocolate (Unsweetened Chocolate\"\u001b[39m, \u001b[32m2\u001b[39m),\n",
       "    (\u001b[32m\" Madagascar Bourbon Vanilla Beans\"\u001b[39m, \u001b[32m2\u001b[39m),\n",
       "    (\u001b[32m\" Contains milk. May contain wheat\"\u001b[39m, \u001b[32m2\u001b[39m),\n",
       "    (\u001b[32m\"Milk Chocolate ( Unsweetened Chocolate\"\u001b[39m, \u001b[32m1\u001b[39m),\n",
       "    (\u001b[32m\" Whole Milk Powder)\"\u001b[39m, \u001b[32m1\u001b[39m),\n",
       "    (\n",
       "      \u001b[32m\"soy and nuts. For Premium milk chocolate: Milk Chocolate ( Whole Milk Powder\"\u001b[39m,\n",
       "      \u001b[32m1\u001b[39m\n",
       "    ),\n",
       "    (\n",
       "      \u001b[32m\" soy and nuts. For Premium milk chocolate: Milk Chocolate ( Whole Milk Powder\"\u001b[39m,\n",
       "      \u001b[32m1\u001b[39m\n",
       "    ),\n",
       "    (\u001b[32m\"Madagascar Bourbon Vanilla Beans. Contains milk. May contain wheat\"\u001b[39m, \u001b[32m1\u001b[39m),\n",
       "    (\u001b[32m\"Contains milk. May contain wheat\"\u001b[39m, \u001b[32m1\u001b[39m),\n",
       "    (\u001b[32m\"Madagascar Bourbon Vanilla Beans and Natural Flavor. May contain milk\"\u001b[39m, \u001b[32m1\u001b[39m)..."
      ]
     },
     "execution_count": 22,
     "metadata": {},
     "output_type": "execute_result"
    }
   ],
   "source": [
    "val marcasIngredientes = amostras4.groupBy(_.brand)\n",
    "                                    .mapValues(_.map(l => l.ingredients).reduce(_ ++ _))\n",
    "                                    .mapValues(_.groupBy(identity).mapValues(_.size))\n",
    "                                    .mapValues(_.toSeq.sortWith(_._2 > _._2))"
   ]
  },
  {
   "cell_type": "markdown",
   "metadata": {},
   "source": [
    "#### Questão 7"
   ]
  },
  {
   "cell_type": "markdown",
   "metadata": {},
   "source": [
    "#### Aqui iremos pegar as últimas 5 receitas adicionadas, isso pode ser utilizado como parâmetro para particionar possíveis cojuntos de treino, validação e teste "
   ]
  },
  {
   "cell_type": "code",
   "execution_count": 25,
   "metadata": {},
   "outputs": [
    {
     "data": {
      "text/plain": [
       "\u001b[36mamostras5\u001b[39m: \u001b[32mList\u001b[39m[\u001b[32mAmostraMinData\u001b[39m] = \u001b[33mList\u001b[39m(\n",
       "  \u001b[33mAmostraMinData\u001b[39m(\u001b[32m\"AV5LUNcQ-jtxr-f3FAqT\"\u001b[39m, 2017-09-04 02:10:59.0),\n",
       "  \u001b[33mAmostraMinData\u001b[39m(\u001b[32m\"AV5LTvpL-jtxr-f3FAmA\"\u001b[39m, 2017-09-04 02:10:59.0),\n",
       "  \u001b[33mAmostraMinData\u001b[39m(\u001b[32m\"AV5LT2oBvKc47QAVwvQS\"\u001b[39m, 2017-09-04 02:10:58.0),\n",
       "  \u001b[33mAmostraMinData\u001b[39m(\u001b[32m\"AV5LTJht-jtxr-f3FAhC\"\u001b[39m, 2017-09-04 02:10:58.0),\n",
       "  \u001b[33mAmostraMinData\u001b[39m(\u001b[32m\"AV5LT0S2glJLPUi8ZjuK\"\u001b[39m, 2017-09-04 02:10:58.0),\n",
       "  \u001b[33mAmostraMinData\u001b[39m(\u001b[32m\"AV5LToMSGV-KLJ3auqS4\"\u001b[39m, 2017-09-04 02:10:58.0),\n",
       "  \u001b[33mAmostraMinData\u001b[39m(\u001b[32m\"AV5LT9cN-jtxr-f3FAoM\"\u001b[39m, 2017-09-04 02:10:57.0),\n",
       "  \u001b[33mAmostraMinData\u001b[39m(\u001b[32m\"AV5LTthhglJLPUi8ZjtU\"\u001b[39m, 2017-09-04 02:10:57.0),\n",
       "  \u001b[33mAmostraMinData\u001b[39m(\u001b[32m\"AV5LUOPEglJLPUi8Zjwz\"\u001b[39m, 2017-09-04 02:10:57.0),\n",
       "  \u001b[33mAmostraMinData\u001b[39m(\u001b[32m\"AV5LTu2vvKc47QAVwvOc\"\u001b[39m, 2017-09-04 02:10:57.0),\n",
       "  \u001b[33mAmostraMinData\u001b[39m(\u001b[32m\"AV5LTR4fvKc47QAVwvLC\"\u001b[39m, 2017-09-04 02:10:42.0),\n",
       "  \u001b[33mAmostraMinData\u001b[39m(\u001b[32m\"AV5LUOC8glJLPUi8Zjwv\"\u001b[39m, 2017-09-04 02:10:39.0),\n",
       "  \u001b[33mAmostraMinData\u001b[39m(\u001b[32m\"AV5LTUrT-jtxr-f3FAi5\"\u001b[39m, 2017-09-04 02:10:38.0),\n",
       "  \u001b[33mAmostraMinData\u001b[39m(\u001b[32m\"AV5LThI8GV-KLJ3auqR9\"\u001b[39m, 2017-09-04 02:10:37.0),\n",
       "  \u001b[33mAmostraMinData\u001b[39m(\u001b[32m\"AV4__TUuvKc47QAVvLQI\"\u001b[39m, 2017-09-01 21:27:30.0),\n",
       "  \u001b[33mAmostraMinData\u001b[39m(\u001b[32m\"AV46HYChGV-KLJ3aqAh4\"\u001b[39m, 2017-08-31 18:00:53.0),\n",
       "  \u001b[33mAmostraMinData\u001b[39m(\u001b[32m\"AV4cO4pbvKc47QAVrlro\"\u001b[39m, 2017-08-25 22:50:17.0),\n",
       "  \u001b[33mAmostraMinData\u001b[39m(\u001b[32m\"AV4cO3_E-jtxr-f3_63H\"\u001b[39m, 2017-08-25 22:50:14.0),\n",
       "  \u001b[33mAmostraMinData\u001b[39m(\u001b[32m\"AV4cOmdevKc47QAVrlrh\"\u001b[39m, 2017-08-25 22:49:03.0),\n",
       "  \u001b[33mAmostraMinData\u001b[39m(\u001b[32m\"AV4cOkYyGV-KLJ3aoGf7\"\u001b[39m, 2017-08-25 22:48:54.0),\n",
       "  \u001b[33mAmostraMinData\u001b[39m(\u001b[32m\"AV4cOgjS-jtxr-f3_62_\"\u001b[39m, 2017-08-25 22:48:38.0),\n",
       "  \u001b[33mAmostraMinData\u001b[39m(\u001b[32m\"AV4cOXOFvKc47QAVrlrM\"\u001b[39m, 2017-08-25 22:48:00.0),\n",
       "  \u001b[33mAmostraMinData\u001b[39m(\u001b[32m\"AV4cOWX2-jtxr-f3_62w\"\u001b[39m, 2017-08-25 22:47:57.0),\n",
       "  \u001b[33mAmostraMinData\u001b[39m(\u001b[32m\"AV4cOVV0vKc47QAVrlrF\"\u001b[39m, 2017-08-25 22:47:53.0),\n",
       "  \u001b[33mAmostraMinData\u001b[39m(\u001b[32m\"AV4cOUK7vKc47QAVrlrD\"\u001b[39m, 2017-08-25 22:47:48.0),\n",
       "  \u001b[33mAmostraMinData\u001b[39m(\u001b[32m\"AV4cOQbkvKc47QAVrlq_\"\u001b[39m, 2017-08-25 22:47:32.0),\n",
       "  \u001b[33mAmostraMinData\u001b[39m(\u001b[32m\"AV4cN7nQglJLPUi8S79-\"\u001b[39m, 2017-08-25 22:46:07.0),\n",
       "  \u001b[33mAmostraMinData\u001b[39m(\u001b[32m\"AV4cN600vKc47QAVrlqw\"\u001b[39m, 2017-08-25 22:46:04.0),\n",
       "  \u001b[33mAmostraMinData\u001b[39m(\u001b[32m\"AV4cN6kOglJLPUi8S799\"\u001b[39m, 2017-08-25 22:46:03.0),\n",
       "  \u001b[33mAmostraMinData\u001b[39m(\u001b[32m\"AV4cJUAwglJLPUi8S79u\"\u001b[39m, 2017-08-25 22:25:56.0),\n",
       "  \u001b[33mAmostraMinData\u001b[39m(\u001b[32m\"AV4b8T0ivKc47QAVrkoN\"\u001b[39m, 2017-08-25 21:29:08.0),\n",
       "  \u001b[33mAmostraMinData\u001b[39m(\u001b[32m\"AV4b79kqvKc47QAVrkm2\"\u001b[39m, 2017-08-25 21:27:37.0),\n",
       "  \u001b[33mAmostraMinData\u001b[39m(\u001b[32m\"AV4b78PlvKc47QAVrkms\"\u001b[39m, 2017-08-25 21:27:31.0),\n",
       "  \u001b[33mAmostraMinData\u001b[39m(\u001b[32m\"AV4b77nwGV-KLJ3aoFcU\"\u001b[39m, 2017-08-25 21:27:29.0),\n",
       "  \u001b[33mAmostraMinData\u001b[39m(\u001b[32m\"AV4b76VAglJLPUi8S655\"\u001b[39m, 2017-08-25 21:27:23.0),\n",
       "  \u001b[33mAmostraMinData\u001b[39m(\u001b[32m\"AV4b7xCKglJLPUi8S65O\"\u001b[39m, 2017-08-25 21:26:45.0),\n",
       "  \u001b[33mAmostraMinData\u001b[39m(\u001b[32m\"AV4b7xDQglJLPUi8S65P\"\u001b[39m, 2017-08-25 21:26:45.0),\n",
       "  \u001b[33mAmostraMinData\u001b[39m(\u001b[32m\"AV4b7nX7-jtxr-f3_5xh\"\u001b[39m, 2017-08-25 21:26:06.0),\n",
       "..."
      ]
     },
     "execution_count": 25,
     "metadata": {},
     "output_type": "execute_result"
    }
   ],
   "source": [
    "lines = Source.fromFile(\"ingredients.tsv\").getLines.drop(1)\n",
    "val amostras5 = lines\n",
    "    //separando os valores por tabulação\n",
    "    .map(_.split(\"\\t\"))\n",
    "    //transformando as linhas em Amostras\n",
    "    .map(l => AmostraMinData(l.head, Timestamp.from(Instant.parse(l(4)))))\n",
    "    .toList\n",
    "    .sortWith(_.date.getTime > _.date.getTime)"
   ]
  },
  {
   "cell_type": "code",
   "execution_count": 26,
   "metadata": {},
   "outputs": [
    {
     "data": {
      "text/plain": [
       "\u001b[36mres25\u001b[39m: \u001b[32mList\u001b[39m[\u001b[32mAmostraMinData\u001b[39m] = \u001b[33mList\u001b[39m(\n",
       "  \u001b[33mAmostraMinData\u001b[39m(\u001b[32m\"AV5LUNcQ-jtxr-f3FAqT\"\u001b[39m, 2017-09-04 02:10:59.0),\n",
       "  \u001b[33mAmostraMinData\u001b[39m(\u001b[32m\"AV5LTvpL-jtxr-f3FAmA\"\u001b[39m, 2017-09-04 02:10:59.0),\n",
       "  \u001b[33mAmostraMinData\u001b[39m(\u001b[32m\"AV5LT2oBvKc47QAVwvQS\"\u001b[39m, 2017-09-04 02:10:58.0),\n",
       "  \u001b[33mAmostraMinData\u001b[39m(\u001b[32m\"AV5LTJht-jtxr-f3FAhC\"\u001b[39m, 2017-09-04 02:10:58.0),\n",
       "  \u001b[33mAmostraMinData\u001b[39m(\u001b[32m\"AV5LT0S2glJLPUi8ZjuK\"\u001b[39m, 2017-09-04 02:10:58.0)\n",
       ")"
      ]
     },
     "execution_count": 26,
     "metadata": {},
     "output_type": "execute_result"
    }
   ],
   "source": [
    "amostras5.take(5)"
   ]
  },
  {
   "cell_type": "code",
   "execution_count": null,
   "metadata": {},
   "outputs": [],
   "source": []
  }
 ],
 "metadata": {
  "kernelspec": {
   "display_name": "Scala",
   "language": "scala",
   "name": "scala"
  },
  "language_info": {
   "codemirror_mode": "text/x-scala",
   "file_extension": ".scala",
   "mimetype": "text/x-scala",
   "name": "scala",
   "nbconvert_exporter": "script",
   "version": "2.12.8"
  }
 },
 "nbformat": 4,
 "nbformat_minor": 2
}
