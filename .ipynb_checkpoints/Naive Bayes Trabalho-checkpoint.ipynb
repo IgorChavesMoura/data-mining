{
 "cells": [
  {
   "cell_type": "code",
   "execution_count": null,
   "metadata": {},
   "outputs": [],
   "source": [
    "import math\n",
    "import random\n",
    "import pandas as pd\n",
    "import numpy as np \n",
    "#from sklearn.preprocessing import LabelEncoder,MinMaxScaler"
   ]
  },
  {
   "cell_type": "markdown",
   "metadata": {},
   "source": [
    "#### Lendo os dados do arquivo para um dataframe\n",
    "##### Obs: Editei o csv e inseri os nomes da colunas diretamente no arquivo por convenciência"
   ]
  },
  {
   "cell_type": "code",
   "execution_count": null,
   "metadata": {},
   "outputs": [],
   "source": [
    "#df = pd.read_csv('pima-indians-diabetes.csv',header=None)\n",
    "df = pd.read_csv('carData.csv')"
   ]
  },
  {
   "cell_type": "code",
   "execution_count": null,
   "metadata": {},
   "outputs": [],
   "source": [
    "df.head(10)"
   ]
  },
  {
   "cell_type": "markdown",
   "metadata": {},
   "source": [
    "#### Função para calcular a probabilidade multinomial"
   ]
  },
  {
   "cell_type": "code",
   "execution_count": null,
   "metadata": {},
   "outputs": [],
   "source": [
    "def calculateProbabilityTable(dataset,attr):\n",
    "    \n",
    "    #Valores unicos do atributo\n",
    "    poss_vals = pd.unique(dataset[attr])\n",
    "    \n",
    "    classes = pd.unique(dataset['quality'])\n",
    " \n",
    "    tabela_frequencia = {}\n",
    "\n",
    "    for poss_val in poss_vals:\n",
    "        tabela_frequencia[poss_val] = {}\n",
    "        \n",
    "        for classe in classes: \n",
    "            \n",
    "            count_classe = len(dataset[dataset['quality'] == classe])\n",
    "            \n",
    "            sub_dataset = dataset.query(attr + \"=='\" +  poss_val + \"' &\" + \"quality =='\" + classe + \"'\")\n",
    "            \n",
    "            count_attr = len(sub_dataset)\n",
    "            \n",
    "            count = count_attr/count_classe\n",
    "            \n",
    "            tabela_frequencia[poss_val][classe] = count\n",
    "            \n",
    "        \n",
    "    return tabela_frequencia\n",
    "    \n",
    "calculateProbabilityTable(df,'safety')"
   ]
  },
  {
   "cell_type": "code",
   "execution_count": null,
   "metadata": {},
   "outputs": [],
   "source": [
    "def calculateProbabilityTables(dataset):\n",
    "    \n",
    "    tables = {  }\n",
    "    \n",
    "    for attr in df.columns[:-1]:\n",
    "        \n",
    "        tables[attr] = calculateProbabilityTable(dataset,attr)\n",
    "    \n",
    "    return tables"
   ]
  },
  {
   "cell_type": "markdown",
   "metadata": {},
   "source": [
    "#### Com isso podemos calcular as probabilidades das classes"
   ]
  },
  {
   "cell_type": "code",
   "execution_count": null,
   "metadata": {},
   "outputs": [],
   "source": [
    "def calculateClassProbabilities(probabilityTables, inputVector, attrs,classes):\n",
    "    \n",
    "    probabilities = {}\n",
    "    \n",
    "    for classe in classes:\n",
    "        \n",
    "        classProb = 1.0\n",
    "        \n",
    "        for index,attr in attrs:\n",
    "            \n",
    "            attrTable = probabilityTables[attr]\n",
    "            \n",
    "            classAttrProb = attrTable[inputVector[index]][classe]\n",
    "            \n",
    "            classProb *= classAttrProb\n",
    "            \n",
    "        probabilities[classe] = classProb\n",
    "        \n",
    "    \n",
    "    return probabilities"
   ]
  },
  {
   "cell_type": "markdown",
   "metadata": {},
   "source": [
    "#### Agora finalmente podemos fazer a função de predição"
   ]
  },
  {
   "cell_type": "code",
   "execution_count": null,
   "metadata": {},
   "outputs": [],
   "source": [
    "def predict(probabilityTables, inputVector, attrs, classes):\n",
    "    probabilities = calculateClassProbabilities(probabilityTables, inputVector,attrs,classes)\n",
    "    bestLabel, bestProb = None, -1\n",
    "    for classe in classes:\n",
    "        classProb = probabilities[classe]\n",
    "        if bestLabel is None or classProb > bestProb:\n",
    "            bestProb = classProb\n",
    "            bestLabel = classe\n",
    "    return bestLabel"
   ]
  },
  {
   "cell_type": "code",
   "execution_count": null,
   "metadata": {},
   "outputs": [],
   "source": [
    "def getPredictions(probabilityTables, testSet, attrs,classes):\n",
    "    predictions = []\n",
    "    for i in range(len(testSet)):\n",
    "        result = predict(summaries, testSet[i],attrs,classes)\n",
    "        predictions.append(result)\n",
    "    return predictions"
   ]
  },
  {
   "cell_type": "markdown",
   "metadata": {},
   "source": [
    "#### Função para dividir o dataset entre treino e teste"
   ]
  },
  {
   "cell_type": "code",
   "execution_count": null,
   "metadata": {},
   "outputs": [],
   "source": [
    "def splitDataset(dataset, splitRatio):\n",
    "    trainSize = int(len(dataset) * splitRatio)\n",
    "    trainSet = []\n",
    "    copy = list(dataset)\n",
    "    while len(trainSet) < trainSize:\n",
    "        index = random.randrange(len(copy))\n",
    "        trainSet.append(copy.pop(index))\n",
    "    return [trainSet, copy]"
   ]
  },
  {
   "cell_type": "code",
   "execution_count": null,
   "metadata": {},
   "outputs": [],
   "source": [
    "[train,test] = splitDataset(df_categorical.values,0.7)"
   ]
  },
  {
   "cell_type": "markdown",
   "metadata": {},
   "source": [
    "#### Função para calcular a acurácia"
   ]
  },
  {
   "cell_type": "code",
   "execution_count": null,
   "metadata": {},
   "outputs": [],
   "source": [
    "def getAccuracy(testSet, predictions):\n",
    "    correct = 0\n",
    "    for i in range(len(testSet)):\n",
    "        if testSet[i][-1] == predictions[i]:\n",
    "            correct += 1\n",
    "    return (correct/float(len(testSet))) * 100.0"
   ]
  },
  {
   "cell_type": "code",
   "execution_count": null,
   "metadata": {},
   "outputs": [],
   "source": [
    "summaries = summarizeByClass(train)\n",
    "summaries"
   ]
  },
  {
   "cell_type": "code",
   "execution_count": null,
   "metadata": {},
   "outputs": [],
   "source": [
    "predictions = getPredictions(summaries,test)"
   ]
  }
 ],
 "metadata": {
  "kernelspec": {
   "display_name": "Python 3",
   "language": "python",
   "name": "python3"
  },
  "language_info": {
   "codemirror_mode": {
    "name": "ipython",
    "version": 3
   },
   "file_extension": ".py",
   "mimetype": "text/x-python",
   "name": "python",
   "nbconvert_exporter": "python",
   "pygments_lexer": "ipython3",
   "version": "3.6.5"
  }
 },
 "nbformat": 4,
 "nbformat_minor": 2
}
